{
 "cells": [
  {
   "cell_type": "markdown",
   "metadata": {},
   "source": [
    "# Tools - Using arrays to store data"
   ]
  },
  {
   "cell_type": "markdown",
   "metadata": {},
   "source": [
    "### Introduction to arrays\n",
    "\n",
    "**Arrays are collections of boxes that we can use to store data.** In the last notebook, we saw an image that can help us to picture a 1-dimensional array:\n",
    "\n",
    "<img src=\"data/array_cartoon.png\" alt=\"Drawing\" style=\"width: 500px;\"/>\n",
    "\n",
    "*Why do we want an object like this to store our data?*"
   ]
  },
  {
   "cell_type": "markdown",
   "metadata": {},
   "source": [
    "An alternative to using an array in some contexts would be to name every individual piece of data, as follows:\n",
    "\n",
    "```julia\n",
    "a = 1.1\n",
    "b = 2.2\n",
    "c = 3.3\n",
    "```\n",
    "\n",
    "We can visualize how this data is stored:\n",
    "\n",
    "<img src=\"data/without_arrays.png\" alt=\"Drawing\" style=\"width: 500px;\"/>\n",
    "\n",
    "\n",
    "\n",
    "This is like having a separate box for every piece of data, rather than a series of connected boxes for all our data.\n",
    "\n",
    "The more data we have, the more annoying it becomes to keep track of all these boxes and their names. Furthermore, if we want to do the same thing with many pieces of data, it's much easier to put all of these pieces of data in one place to work with them at once.\n",
    "\n",
    "For example, we may want to multiply `a`, `b`, and `c` by `2`. We could multiply three times:\n",
    "\n",
    "```julia\n",
    "a * 2\n",
    "b * 2\n",
    "c * 2\n",
    "```\n",
    "\n",
    "Or, instead, we could create one array (let's call it `numbers`) and multiply that array by `2`:\n",
    "```julia\n",
    "numbers * 2\n",
    "```\n",
    "\n",
    "The syntax for creating this array, `numbers`, is\n",
    "\n",
    "```julia\n",
    "numbers = [a, b, c]\n",
    "```\n",
    "\n",
    "Or, we could have just written\n",
    "\n",
    "```julia\n",
    "numbers = [1.1, 2.2, 3.3]\n",
    "```\n",
    "\n",
    "It's worth noting that in Julia, 1-dimensional arrays are also called \"vectors\"."
   ]
  },
  {
   "cell_type": "markdown",
   "metadata": {},
   "source": [
    "### Creating arrays\n",
    "\n",
    "In the last section, we saw that we could create the array `numbers` by typing our elements, `a`, `b`, and `c` (or `1.1`, `2.2`, and `3.3`), inside square brackets."
   ]
  },
  {
   "cell_type": "markdown",
   "metadata": {},
   "source": [
    "#### Exercise 1 \n",
    "\n",
    "\n",
    "\n",
    "Create an array called `first_array` that stores the numbers 10 through 20.\n",
    "\n",
    "Reminder: ESC+b to open a box below."
   ]
  },
  {
   "cell_type": "markdown",
   "metadata": {},
   "source": [
    "### Array comprehensions"
   ]
  },
  {
   "cell_type": "markdown",
   "metadata": {},
   "source": [
    "Alternatively we can create arrays via *\"array comprehensions\"*. This is a nice way to automate creating an array, if you don't want to have to type long lists of numbers inside square brackets.\n",
    "\n",
    "In an array comprehension, you write code inside square brackets that will generate the array as that code is executed. Let's see an example.\n",
    "\n",
    "```julia\n",
    "counting = [2 * i for i in 1:10]\n",
    "```\n",
    "\n",
    "The above line of code is saying that we want to create an array called `counting` that stores two times each of the integers between 1 and 10. This array comprehension has a few different parts, so let's dissect them:\n",
    "\n",
    "<img src=\"data/array_comprehension.png\" alt=\"Drawing\" style=\"width: 500px;\"/>\n",
    "\n",
    "If we wanted to create another array, `roots`, that stored the square roots of all integers between 1 and 10, we could modify the code above to\n",
    "\n",
    "```julia\n",
    "roots = [sqrt(i) for i in 1:10]\n",
    "```\n",
    "\n",
    "#### Exercise\n",
    "\n",
    "Create an array, `squares`, that stores the squares of all integers between 1 and 100."
   ]
  },
  {
   "cell_type": "markdown",
   "metadata": {},
   "source": [
    "### Looking inside an array\n",
    "\n",
    "We can \"index\" into an array to grab contents inside the array at a particular position. To index into our `counting` array, we place square brackets after the name of the array and put the position number of the element/data we want inside those brackets.\n",
    "\n",
    "For example, we might say\n",
    "\n",
    "```julia\n",
    "counting[3]\n",
    "```\n",
    "\n",
    "to grab the third element in the array called `counting`."
   ]
  },
  {
   "cell_type": "markdown",
   "metadata": {},
   "source": [
    "#### Exercise 2\n",
    "\n",
    "Execute the code in the next cell. It will generate an array called `myprimes` that stores the first 168 prime numbers. Index into `myprimes` to grab the 89th smallest prime. What is this prime?"
   ]
  },
  {
   "cell_type": "code",
   "execution_count": null,
   "metadata": {},
   "outputs": [],
   "source": [
    "using Primes\n",
    "\n",
    "myprimes = primes(1000); # The semicolon suppresses the output, try removing it"
   ]
  },
  {
   "cell_type": "markdown",
   "metadata": {},
   "source": [
    "### Slicing"
   ]
  },
  {
   "cell_type": "markdown",
   "metadata": {},
   "source": [
    "Instead of grabbing a single number in an array, we can also take a **slice** of an array, i.e. a subset of the array, which can include multiple values. To take a slice of `counting` that includes the 3rd, 4th, and 5th entries, we use the following syntax with a colon (`:`):\n",
    "\n",
    "```julia\n",
    "counting[3:5]\n",
    "```"
   ]
  },
  {
   "cell_type": "markdown",
   "metadata": {},
   "source": [
    "#### Exercise 3\n",
    "\n",
    "Index into `myprimes` to grab the 89th through the 99th smallest primes (inclusive)."
   ]
  },
  {
   "cell_type": "markdown",
   "metadata": {},
   "source": [
    "### Modifying an array\n",
    "\n",
    "In this section, we'll see how to edit an array we've already created. We'll see how to\n",
    "\n",
    "1) Update an item at an existing position in an array;\n",
    "\n",
    "2) Add an item to the end of an array;\n",
    "\n",
    "3) Remove an item from the end of an array."
   ]
  },
  {
   "cell_type": "markdown",
   "metadata": {},
   "source": [
    "#### Update an item at an existing position in an array\n",
    "\n",
    "First off, we can update an item at an existing position in an array by indexing into the array and changing the value at the desired index. For example, let's say we have an array called `myfriends`:\n",
    "\n",
    "```julia\n",
    "myfriends = [\"Ted\", \"Robin\", \"Barney\", \"Lily\", \"Marshall\"]\n",
    "```\n",
    "\n",
    "We can grab Barney's name from `myfriends` via\n",
    "\n",
    "```julia\n",
    "myfriends[3]\n",
    "```\n",
    "\n",
    "and we can change \"Barney\" to something else by reassigning `myfriends[3]`:\n",
    "\n",
    "```julia\n",
    "myfriends[3] = \"Baby Bop\"\n",
    "```\n",
    "\n",
    "Note that a single `=` assigns a new variable to the value on the left of the `=` sign."
   ]
  },
  {
   "cell_type": "markdown",
   "metadata": {},
   "source": [
    "#### Exercise 4\n",
    "\n",
    "Use an array comprehension to create an array, `mysequence`, that stores the numbers 4 through 10. Index into `mysequence` and update it to replace the last element, `10`, with `11`."
   ]
  },
  {
   "cell_type": "markdown",
   "metadata": {},
   "source": [
    "#### Add an item to the end of an array\n",
    "\n",
    "We can add an item to the end of an array with the `push!` function. Don't worry about the exclamation mark at the end of `push!`; we'll talk about why that's there later, when we discuss functions.\n",
    "\n",
    "For now, note that when you call `push!` on an array and a value, you add that value to the end of the array. For example,\n",
    "\n",
    "```julia\n",
    "push!(counting, 1000)\n",
    "```\n",
    "\n",
    "will turn `counting`, which was formerly \n",
    "\n",
    "```julia\n",
    "[1, 2, 3, 4, 5, 6, 7, 8, 9, 10]\n",
    "``` \n",
    "into \n",
    "```julia\n",
    "[1, 2, 3, 4, 5, 6, 7, 8, 9, 10, 1000]\n",
    "```\n",
    "\n",
    "Prove to yourself this works!"
   ]
  },
  {
   "cell_type": "code",
   "execution_count": null,
   "metadata": {},
   "outputs": [],
   "source": []
  },
  {
   "cell_type": "markdown",
   "metadata": {},
   "source": [
    "#### Exercise 5\n",
    "\n",
    "Copy the following code to declare the array `fibonacci`:\n",
    "\n",
    "```julia\n",
    "fibonacci = [1, 1, 2, 3, 5, 8, 13]\n",
    "```\n",
    "\n",
    "Use `push!` to add `21` to `fibonacci` after the number `13`."
   ]
  },
  {
   "cell_type": "markdown",
   "metadata": {},
   "source": [
    "#### Remove an item from the end of an array\n",
    "\n",
    "To remove an item from the end of an array, use the `pop!` function. When using `pop!` on arrays, `pop!` only needs one input argument, namely the array you want to change. For example, if\n",
    "\n",
    "```julia\n",
    "counting == [1, 2, 3, 4, 5, 6, 7, 8, 9, 10, 1000]\n",
    "```\n",
    "\n",
    "then\n",
    "```julia\n",
    "push!(counting)\n",
    "```\n",
    "will remove `1000` from the end of `counting`."
   ]
  },
  {
   "cell_type": "markdown",
   "metadata": {},
   "source": [
    "#### Exercise 6\n",
    "\n",
    "Use `pop!` to remove `21` from `fibonacci`. What does this function call return?"
   ]
  },
  {
   "cell_type": "markdown",
   "metadata": {},
   "source": [
    "#### Exercise 7\n",
    "\n",
    "What is the last element of `fibonacci`? Try\n",
    "\n",
    "```julia\n",
    "fibonacci[end]\n",
    "```"
   ]
  },
  {
   "cell_type": "code",
   "execution_count": null,
   "metadata": {},
   "outputs": [],
   "source": []
  },
  {
   "cell_type": "markdown",
   "metadata": {},
   "source": [
    "### Arrays of arrays and multidimensional arrays\n",
    "\n",
    "So far we've only seen 1D arrays of scalars, but arrays can also store other arrays and can have an arbitrary number of dimensions. \n",
    "<br><br>\n",
    "For example, the following are arrays of arrays:"
   ]
  },
  {
   "cell_type": "code",
   "execution_count": null,
   "metadata": {},
   "outputs": [],
   "source": [
    "favorites = [ [\"koobideh\", \"chocolate\", \"eggs\"], [\"penguins\", \"cats\", \"sugargliders\"] ]"
   ]
  },
  {
   "cell_type": "code",
   "execution_count": null,
   "metadata": {},
   "outputs": [],
   "source": [
    "numbers = [ [1, 2, 3], [4, 5], [6, 7, 8, 9] ]"
   ]
  },
  {
   "cell_type": "markdown",
   "metadata": {},
   "source": [
    "One way to create a multidimensional array is to use the `rand` function. `rand` takes an arbitrary number of arguments where the number of arguments determines the number of dimensions the array created by `rand` will have!\n",
    "\n",
    "For example, if we pass `rand` two integer inputs, it will generate a 2D array, while three integer inputs will generate a 3D array:"
   ]
  },
  {
   "cell_type": "code",
   "execution_count": null,
   "metadata": {},
   "outputs": [],
   "source": [
    "rand(4, 3)"
   ]
  },
  {
   "cell_type": "code",
   "execution_count": null,
   "metadata": {},
   "outputs": [],
   "source": [
    "rand(4, 3, 2)"
   ]
  },
  {
   "cell_type": "markdown",
   "metadata": {},
   "source": [
    "If we want to grab a value from a 2D array, we index into the array, specifying the row and column of the element of interest! For example, if we have the array `A` given by\n",
    "\n",
    "```julia\n",
    "A = [ 1  2  3\n",
    "      4  5  6\n",
    "      7  8  9 ]\n",
    " ```\n",
    " we could grab the number 6 by saying\n",
    " \n",
    " ```\n",
    " A[2, 3]\n",
    " ```\n",
    " \n",
    " since 6 is in the 2nd row and 3rd column of `A`."
   ]
  },
  {
   "cell_type": "markdown",
   "metadata": {},
   "source": [
    "#### Exercise 8\n",
    " \n",
    " Copy and execute the following code to get an array, `myprimematrix`, which stores the first 100 primes\n",
    " \n",
    " ```\n",
    " myprimematrix = reshape(primes(541), (10, 10))\n",
    " ```\n",
    " \n",
    " Grab the prime in the 8th row and 5th column via indexing. What is the value of this prime?"
   ]
  },
  {
   "cell_type": "markdown",
   "metadata": {},
   "source": [
    "### Copying arrays\n",
    "\n",
    "Be careful when you want to copy arrays!\n",
    "\n",
    "Let's say you want to copy an existing array, like `fibonacci`, to an array called `somenumbers`. Remember how we defined `fibonacci`:\n",
    "\n",
    "```\n",
    "fibonacci = [1, 1, 2, 3, 5, 8, 13]\n",
    "```julia\n",
    "\n",
    "What if we try to copy fibonacci by saying\n",
    "\n",
    "```\n",
    "somenumbers = fibonacci\n",
    "```julia\n",
    "?\n",
    "Execute this code to try to copy fibonacci. Look at `somenumbers` to see if it stores what you want."
   ]
  },
  {
   "cell_type": "code",
   "execution_count": null,
   "metadata": {},
   "outputs": [],
   "source": [
    "fibonacci"
   ]
  },
  {
   "cell_type": "code",
   "execution_count": null,
   "metadata": {},
   "outputs": [],
   "source": [
    "somenumbers = fibonacci"
   ]
  },
  {
   "cell_type": "code",
   "execution_count": null,
   "metadata": {},
   "outputs": [],
   "source": [
    "somenumbers"
   ]
  },
  {
   "cell_type": "markdown",
   "metadata": {},
   "source": [
    "Now let's update `somenumbers` by changing its first element."
   ]
  },
  {
   "cell_type": "code",
   "execution_count": null,
   "metadata": {},
   "outputs": [],
   "source": [
    "somenumbers[1] = 404"
   ]
  },
  {
   "cell_type": "markdown",
   "metadata": {},
   "source": [
    "Now let's look inside fibonacci."
   ]
  },
  {
   "cell_type": "code",
   "execution_count": null,
   "metadata": {},
   "outputs": [],
   "source": [
    "fibonacci"
   ]
  },
  {
   "cell_type": "markdown",
   "metadata": {},
   "source": [
    "#### Exercise 9\n",
    "\n",
    "What is the first element in `fibonacci`?"
   ]
  },
  {
   "cell_type": "markdown",
   "metadata": {},
   "source": [
    "### Copying or not?"
   ]
  },
  {
   "cell_type": "markdown",
   "metadata": {},
   "source": [
    "Did copying `fibonacci` like this work?\n",
    "\n",
    "No, unfortunately not. When we tried to copy, all we did was give `fibonacci` a new name, `somenumbers`. Now when we update `somenumbers`, we're also updating `fibonacci` because they are the same object!"
   ]
  },
  {
   "cell_type": "markdown",
   "metadata": {},
   "source": [
    "If we actually want to make a *copy* of the array bound to `fibonacci`, we can use the `copy` function:"
   ]
  },
  {
   "cell_type": "code",
   "execution_count": null,
   "metadata": {},
   "outputs": [],
   "source": [
    "# First, restore fibonacci\n",
    "\n",
    "fibonacci[1] = 1\n",
    "fibonacci"
   ]
  },
  {
   "cell_type": "code",
   "execution_count": null,
   "metadata": {},
   "outputs": [],
   "source": [
    "somemorenumbers = copy(fibonacci)"
   ]
  },
  {
   "cell_type": "code",
   "execution_count": null,
   "metadata": {},
   "outputs": [],
   "source": [
    "somemorenumbers[1] = 404"
   ]
  },
  {
   "cell_type": "code",
   "execution_count": null,
   "metadata": {},
   "outputs": [],
   "source": [
    "fibonacci"
   ]
  },
  {
   "cell_type": "markdown",
   "metadata": {},
   "source": [
    "In this last example, fibonacci was not updated. Therefore we see that the arrays bound to `somemorenumbers` and `fibonacci` are distinct."
   ]
  },
  {
   "cell_type": "markdown",
   "metadata": {},
   "source": [
    "#### Exercise 10\n",
    "\n",
    "Copy `myprimematrix` to `mynewprimematrix`. Update `mynewprimematrix[3,3]` to `1234`."
   ]
  }
 ],
 "metadata": {
  "kernelspec": {
   "display_name": "Julia 0.6.2",
   "language": "julia",
   "name": "julia-0.6"
  },
  "language_info": {
   "file_extension": ".jl",
   "mimetype": "application/julia",
   "name": "julia",
   "version": "0.6.3"
  }
 },
 "nbformat": 4,
 "nbformat_minor": 2
}
