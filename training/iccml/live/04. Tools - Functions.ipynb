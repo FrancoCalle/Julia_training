{
 "cells": [
  {
   "cell_type": "markdown",
   "metadata": {},
   "source": [
    "## Functions\n",
    "\n",
    "\n",
    "In the last notebook, we talked about modeling data with functions. A **function** is one of the most fundamental concepts in computing (and also in mathematics). \n",
    "\n",
    "A function is a piece of a program that receives **input arguments**, processes them by doing certain calculations on them, and returns **outputs**.\n",
    "\n",
    "For example, we might have a function `g` that takes a number as an input and returns the square of that number as an output. How can we define this function `g` on a computer? Julia gives us a few different ways to do this."
   ]
  },
  {
   "cell_type": "markdown",
   "metadata": {},
   "source": [
    "### Defining functions"
   ]
  },
  {
   "cell_type": "markdown",
   "metadata": {},
   "source": [
    "Firstly, we could write `g` as follows:"
   ]
  },
  {
   "cell_type": "code",
   "execution_count": null,
   "metadata": {},
   "outputs": [],
   "source": [
    "g(x) = x^2"
   ]
  },
  {
   "cell_type": "markdown",
   "metadata": {},
   "source": [
    "Alternatively, we could declare this function using the `function` and `end` keywords:"
   ]
  },
  {
   "cell_type": "code",
   "execution_count": null,
   "metadata": {},
   "outputs": [],
   "source": [
    "function g1(x)\n",
    "    return x^2\n",
    "end"
   ]
  },
  {
   "cell_type": "markdown",
   "metadata": {},
   "source": [
    "The third way we could have declared this function is as an \"anonymous\" or \"lambda\" function. \"Anonymous\" functions are functions that truly don't need names! For example, we could have declared a function that squares its input as"
   ]
  },
  {
   "cell_type": "code",
   "execution_count": null,
   "metadata": {},
   "outputs": [],
   "source": [
    "x -> x^2"
   ]
  },
  {
   "cell_type": "markdown",
   "metadata": {},
   "source": [
    "Now that we've done that, we can't access the function `x -> x^2` again because we have no name to call! That seems a little silly, doesn't it?\n",
    "\n",
    "Actually, there are times where functions without names are useful to us. We'll see that later in this notebook. For now, note that you have the *option* to access an \"anonymous\" function later by binding a variable to it when you declare it. For example,"
   ]
  },
  {
   "cell_type": "code",
   "execution_count": null,
   "metadata": {},
   "outputs": [],
   "source": [
    "g = x -> x^2"
   ]
  },
  {
   "cell_type": "markdown",
   "metadata": {},
   "source": [
    "This syntax says, \"I want to use the variable g to access a function that takes some input called `x` and maps that input to the square of `x`."
   ]
  },
  {
   "cell_type": "markdown",
   "metadata": {},
   "source": [
    "## An important sigmoidal function"
   ]
  },
  {
   "cell_type": "markdown",
   "metadata": {},
   "source": [
    "A particular function that is used a lot in machine learning is a so-called \"sigmoidal\" function (meaning a function that is S-shaped, i.e. the graph of the function looks like an `S`).\n",
    "\n",
    "The sigmoid function that we will use is given the name $\\sigma$, and is defined by the following mathematical expression:\n",
    "\n",
    "$$\\sigma(x) := \\frac{1}{1 + \\exp(-x)}.$$"
   ]
  },
  {
   "cell_type": "markdown",
   "metadata": {},
   "source": [
    "#### Exercise 1\n",
    "\n",
    "Use the first syntax given above to define the function `σ` in Julia. Note that Julia actually allows us to use the symbol σ as a variable name! To do so, type `\\sigma<TAB>` in the code cell."
   ]
  },
  {
   "cell_type": "code",
   "execution_count": null,
   "metadata": {},
   "outputs": [],
   "source": [
    "σ"
   ]
  },
  {
   "cell_type": "markdown",
   "metadata": {},
   "source": [
    "## Plotting functions"
   ]
  },
  {
   "cell_type": "markdown",
   "metadata": {},
   "source": [
    "Let's draw the function σ to see what it looks like. Throughout this course, we'll use the Julia package `Plots.jl` for all of the graphics. This package provides a flexible syntax for plotting, in which options to change attributes like the width of the lines used in the figure are given as named keyword arguments.\n",
    "\n",
    "In addition, it allows us to use different \"backends\", which are the other libraries that actually carry out the plotting following the instructions from `Plots.jl`."
   ]
  },
  {
   "cell_type": "code",
   "execution_count": null,
   "metadata": {},
   "outputs": [],
   "source": [
    "using Plots\n",
    "plotlyjs()   # use the PlotlyJS \"backend\" (plotting library)"
   ]
  },
  {
   "cell_type": "code",
   "execution_count": null,
   "metadata": {},
   "outputs": [],
   "source": [
    "plot(σ, -5, 5)\n",
    "\n",
    "hline!([0, 1], ls=:dash, lw=3)  # add horizontal lines at 0 and 1, with dashed style and linewidth 3\n",
    "vline!([0], ls=:dash, lw=3)     # add a vertical line at 0"
   ]
  },
  {
   "cell_type": "markdown",
   "metadata": {},
   "source": [
    "This particular function takes any real number as input, and gives an output between $0$ and $1$. It is continuous and smooth."
   ]
  },
  {
   "cell_type": "markdown",
   "metadata": {},
   "source": [
    "#### Exercise 2\n",
    "\n",
    "Declare the sigmoid function above as an anonymous function with a different name."
   ]
  },
  {
   "cell_type": "markdown",
   "metadata": {},
   "source": [
    "### Mutating functions: `...!`\n",
    "\n",
    "To generate our plot of σ above, we used some functions that end with `!`. What does a `!` at the end of a function name mean in Julia?"
   ]
  },
  {
   "cell_type": "markdown",
   "metadata": {},
   "source": [
    "Functions that change or modify their inputs are called **mutating functions**. But wait, don't all functions do that?\n",
    "\n",
    "No, actually. Functions typically take *inputs* and use those *inputs* to generate *outputs*, but the inputs themselves usually don't actually get changed by a function. For example, copy and execute the following code:\n",
    "\n",
    "```julia\n",
    "v1 = [9, 4, 7, 11]\n",
    "v2 = sort(v1)\n",
    "```"
   ]
  },
  {
   "cell_type": "code",
   "execution_count": null,
   "metadata": {},
   "outputs": [],
   "source": []
  },
  {
   "cell_type": "markdown",
   "metadata": {},
   "source": [
    "`v2` is a sorted version of `v1`, but after calling `sort`, `v1` is still unsorted.\n",
    "\n",
    "However, now trying adding an exclamation point after `sort` and executing the following code:\n",
    "\n",
    "```julia\n",
    "sort!(v1)\n",
    "```"
   ]
  },
  {
   "cell_type": "code",
   "execution_count": null,
   "metadata": {},
   "outputs": [],
   "source": []
  },
  {
   "cell_type": "markdown",
   "metadata": {},
   "source": [
    "Look at the values in `v1` now!"
   ]
  },
  {
   "cell_type": "code",
   "execution_count": null,
   "metadata": {},
   "outputs": [],
   "source": []
  },
  {
   "cell_type": "markdown",
   "metadata": {},
   "source": [
    "This time, the original vector itself was changed (mutated), and is now sorted. Unlike `sort`, `sort!` is a mutating function. Did the `!` make `sort!` mutating? Well, no, not really. In Julia, `!` indicates mutating functions by convention. When the author of `sort!` wrote `sort!`, they added a `!` to let you to know that `sort!` is mutating, but the `!` isn't what makes a function mutating or non-mutating in the first place.\n",
    " \n",
    "#### Exercise\n",
    "\n",
    "Some of our plotting commands end with `!`. Copy and execute the following code:\n",
    "\n",
    "```julia\n",
    "r = -5:0.1:5\n",
    "g(x) = x^2\n",
    "h(x) = x^3\n",
    "plot(r, g, label=\"g\")\n",
    "plot!(r, h, label=\"h\")\n",
    "```\n",
    "\n",
    "Then change the code slightly to remove the `!` after `plot!(r, h)`. How does this change your output? What do you think it means to add `!` after plotting commands?"
   ]
  },
  {
   "cell_type": "markdown",
   "metadata": {},
   "source": [
    "## Broadcasting functions:  `.(...)`\n",
    "\n",
    "We saw in a previous notebook that we needed to add `.` after the names of some functions, as in \n",
    "\n",
    "```julia\n",
    "green_amt = mean(Float64.(green.(apple)))\n",
    "```\n",
    "\n",
    "What are those extra `.`s really doing?\n",
    "\n",
    "When we add a `.` after a function's name, we are telling Julia that we want to \"**broadcast**\" that function over the inputs passed to the function. This means that we want to apply that function *element-wise* over the inputs; in other words, it will apply the function to each element of the input, and return an array with the newly-calculated values.\n",
    "\n",
    "For example, copy and execute the following code:\n",
    "```julia\n",
    "g.(r)\n",
    "```\n",
    "Since the function `g` squares it's input, this squares all the elements of the range `r`.\n",
    "\n",
    "What happens if instead we just call `g` on `r` via\n",
    "\n",
    "```julia\n",
    "g(r)\n",
    "```\n",
    "? Try this out and see what happens."
   ]
  },
  {
   "cell_type": "code",
   "execution_count": null,
   "metadata": {},
   "outputs": [],
   "source": []
  },
  {
   "cell_type": "markdown",
   "metadata": {},
   "source": [
    "You should see an error message after calling `g(r)`, which says that Julia cannot multiply two vectors. When we call `g(r)`, we ask Julia to multiply `r` by `r`. When we call `g.(r)`, we ask Julia to multiply *each element* in `r` by itself."
   ]
  },
  {
   "cell_type": "markdown",
   "metadata": {},
   "source": [
    "#### Exercise 3\n",
    "\n",
    "Copy and execute the following code to get the type of the object `numbers = [1, 2, \"three\", 4.0]`:\n",
    "\n",
    "```julia\n",
    "numbers = [1, 2, \"three\", 4.0]\n",
    "typeof(numbers)\n",
    "```\n",
    "\n",
    "What is the type of `numbers`?"
   ]
  },
  {
   "cell_type": "markdown",
   "metadata": {},
   "source": [
    "#### Exercise 4\n",
    "\n",
    "Broadcast `typeof` over `numbers` to see what the types of the elements stored inside `numbers` are."
   ]
  },
  {
   "cell_type": "markdown",
   "metadata": {},
   "source": [
    "#### Exercise 5\n",
    "\n",
    "Write a `for` loop that applies `g` to each of the elements of `r` and prints the results. Verify that the numbers printed by this `for` loop are equal to the entries of the output of `g.(r)`."
   ]
  }
 ],
 "metadata": {
  "kernelspec": {
   "display_name": "Julia 0.6.2",
   "language": "julia",
   "name": "julia-0.6"
  },
  "language_info": {
   "file_extension": ".jl",
   "mimetype": "application/julia",
   "name": "julia",
   "version": "0.6.2"
  }
 },
 "nbformat": 4,
 "nbformat_minor": 2
}
