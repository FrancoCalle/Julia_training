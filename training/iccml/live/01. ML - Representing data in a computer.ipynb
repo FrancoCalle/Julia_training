{
 "cells": [
  {
   "cell_type": "markdown",
   "metadata": {},
   "source": [
    "# Representing data in a computer\n",
    "\n",
    "The core of data science and machine learning is **data**: we are interested in extracting knowledge from data. \n",
    "\n",
    "But how exactly do computers represent data? Let's find out exactly what an \"artificial intelligence\" has at its disposal to learn from."
   ]
  },
  {
   "cell_type": "markdown",
   "metadata": {},
   "source": [
    "## Data is represented as arrays\n",
    "\n",
    "Let's take a look at some fruit. Using the `Images.jl` library, we can load in some images:"
   ]
  },
  {
   "cell_type": "code",
   "execution_count": 14,
   "metadata": {},
   "outputs": [
    {
     "data": {
      "image/png": "[encoded data removed]",
      "text/plain": [
       "100×100 Array{RGB4{N0f8},2}:\n",
       " RGB4{N0f8}(0.996,1.0,0.984)    …  RGB4{N0f8}(1.0,1.0,1.0)\n",
       " RGB4{N0f8}(0.984,1.0,0.98)        RGB4{N0f8}(1.0,1.0,1.0)\n",
       " RGB4{N0f8}(0.98,1.0,0.988)        RGB4{N0f8}(1.0,1.0,1.0)\n",
       " RGB4{N0f8}(0.969,1.0,0.992)       RGB4{N0f8}(1.0,1.0,1.0)\n",
       " RGB4{N0f8}(0.969,1.0,1.0)         RGB4{N0f8}(1.0,1.0,1.0)\n",
       " RGB4{N0f8}(0.98,1.0,1.0)       …  RGB4{N0f8}(1.0,1.0,1.0)\n",
       " RGB4{N0f8}(0.992,0.996,1.0)       RGB4{N0f8}(1.0,1.0,1.0)\n",
       " RGB4{N0f8}(0.996,0.992,1.0)       RGB4{N0f8}(1.0,1.0,1.0)\n",
       " RGB4{N0f8}(0.996,0.988,1.0)       RGB4{N0f8}(1.0,1.0,1.0)\n",
       " RGB4{N0f8}(1.0,0.984,1.0)         RGB4{N0f8}(1.0,1.0,1.0)\n",
       " RGB4{N0f8}(1.0,0.992,1.0)      …  RGB4{N0f8}(1.0,1.0,1.0)\n",
       " RGB4{N0f8}(1.0,0.996,1.0)         RGB4{N0f8}(1.0,1.0,1.0)\n",
       " RGB4{N0f8}(1.0,1.0,1.0)           RGB4{N0f8}(1.0,1.0,1.0)\n",
       " ⋮                              ⋱                         \n",
       " RGB4{N0f8}(0.992,1.0,0.988)       RGB4{N0f8}(1.0,1.0,1.0)\n",
       " RGB4{N0f8}(0.992,1.0,0.988)       RGB4{N0f8}(1.0,1.0,1.0)\n",
       " RGB4{N0f8}(0.992,1.0,0.996)    …  RGB4{N0f8}(1.0,1.0,1.0)\n",
       " RGB4{N0f8}(0.996,1.0,1.0)         RGB4{N0f8}(1.0,1.0,1.0)\n",
       " RGB4{N0f8}(0.996,0.996,0.996)     RGB4{N0f8}(1.0,1.0,1.0)\n",
       " RGB4{N0f8}(0.996,0.996,0.996)     RGB4{N0f8}(1.0,1.0,1.0)\n",
       " RGB4{N0f8}(1.0,0.992,0.996)       RGB4{N0f8}(1.0,1.0,1.0)\n",
       " RGB4{N0f8}(1.0,0.992,0.996)    …  RGB4{N0f8}(1.0,1.0,1.0)\n",
       " RGB4{N0f8}(1.0,1.0,1.0)           RGB4{N0f8}(1.0,1.0,1.0)\n",
       " RGB4{N0f8}(1.0,1.0,1.0)           RGB4{N0f8}(1.0,1.0,1.0)\n",
       " RGB4{N0f8}(1.0,1.0,1.0)           RGB4{N0f8}(1.0,1.0,1.0)\n",
       " RGB4{N0f8}(1.0,1.0,1.0)           RGB4{N0f8}(1.0,1.0,1.0)"
      ]
     },
     "execution_count": 14,
     "metadata": {},
     "output_type": "execute_result"
    }
   ],
   "source": [
    "using Images\n",
    "\n",
    "apple = load(\"data/10_100.jpg\")"
   ]
  },
  {
   "cell_type": "code",
   "execution_count": 15,
   "metadata": {},
   "outputs": [
    {
     "data": {
      "image/png": "[encoded data removed]",
      "text/plain": [
       "100×100 Array{RGB4{N0f8},2}:\n",
       " RGB4{N0f8}(1.0,1.0,1.0)  RGB4{N0f8}(1.0,1.0,1.0)  …  RGB4{N0f8}(1.0,1.0,1.0)\n",
       " RGB4{N0f8}(1.0,1.0,1.0)  RGB4{N0f8}(1.0,1.0,1.0)     RGB4{N0f8}(1.0,1.0,1.0)\n",
       " RGB4{N0f8}(1.0,1.0,1.0)  RGB4{N0f8}(1.0,1.0,1.0)     RGB4{N0f8}(1.0,1.0,1.0)\n",
       " RGB4{N0f8}(1.0,1.0,1.0)  RGB4{N0f8}(1.0,1.0,1.0)     RGB4{N0f8}(1.0,1.0,1.0)\n",
       " RGB4{N0f8}(1.0,1.0,1.0)  RGB4{N0f8}(1.0,1.0,1.0)     RGB4{N0f8}(1.0,1.0,1.0)\n",
       " RGB4{N0f8}(1.0,1.0,1.0)  RGB4{N0f8}(1.0,1.0,1.0)  …  RGB4{N0f8}(1.0,1.0,1.0)\n",
       " RGB4{N0f8}(1.0,1.0,1.0)  RGB4{N0f8}(1.0,1.0,1.0)     RGB4{N0f8}(1.0,1.0,1.0)\n",
       " RGB4{N0f8}(1.0,1.0,1.0)  RGB4{N0f8}(1.0,1.0,1.0)     RGB4{N0f8}(1.0,1.0,1.0)\n",
       " RGB4{N0f8}(1.0,1.0,1.0)  RGB4{N0f8}(1.0,1.0,1.0)     RGB4{N0f8}(1.0,1.0,1.0)\n",
       " RGB4{N0f8}(1.0,1.0,1.0)  RGB4{N0f8}(1.0,1.0,1.0)     RGB4{N0f8}(1.0,1.0,1.0)\n",
       " RGB4{N0f8}(1.0,1.0,1.0)  RGB4{N0f8}(1.0,1.0,1.0)  …  RGB4{N0f8}(1.0,1.0,1.0)\n",
       " RGB4{N0f8}(1.0,1.0,1.0)  RGB4{N0f8}(1.0,1.0,1.0)     RGB4{N0f8}(1.0,1.0,1.0)\n",
       " RGB4{N0f8}(1.0,1.0,1.0)  RGB4{N0f8}(1.0,1.0,1.0)     RGB4{N0f8}(1.0,1.0,1.0)\n",
       " ⋮                                                 ⋱                         \n",
       " RGB4{N0f8}(1.0,1.0,1.0)  RGB4{N0f8}(1.0,1.0,1.0)     RGB4{N0f8}(1.0,1.0,1.0)\n",
       " RGB4{N0f8}(1.0,1.0,1.0)  RGB4{N0f8}(1.0,1.0,1.0)     RGB4{N0f8}(1.0,1.0,1.0)\n",
       " RGB4{N0f8}(1.0,1.0,1.0)  RGB4{N0f8}(1.0,1.0,1.0)  …  RGB4{N0f8}(1.0,1.0,1.0)\n",
       " RGB4{N0f8}(1.0,1.0,1.0)  RGB4{N0f8}(1.0,1.0,1.0)     RGB4{N0f8}(1.0,1.0,1.0)\n",
       " RGB4{N0f8}(1.0,1.0,1.0)  RGB4{N0f8}(1.0,1.0,1.0)     RGB4{N0f8}(1.0,1.0,1.0)\n",
       " RGB4{N0f8}(1.0,1.0,1.0)  RGB4{N0f8}(1.0,1.0,1.0)     RGB4{N0f8}(1.0,1.0,1.0)\n",
       " RGB4{N0f8}(1.0,1.0,1.0)  RGB4{N0f8}(1.0,1.0,1.0)     RGB4{N0f8}(1.0,1.0,1.0)\n",
       " RGB4{N0f8}(1.0,1.0,1.0)  RGB4{N0f8}(1.0,1.0,1.0)  …  RGB4{N0f8}(1.0,1.0,1.0)\n",
       " RGB4{N0f8}(1.0,1.0,1.0)  RGB4{N0f8}(1.0,1.0,1.0)     RGB4{N0f8}(1.0,1.0,1.0)\n",
       " RGB4{N0f8}(1.0,1.0,1.0)  RGB4{N0f8}(1.0,1.0,1.0)     RGB4{N0f8}(1.0,1.0,1.0)\n",
       " RGB4{N0f8}(1.0,1.0,1.0)  RGB4{N0f8}(1.0,1.0,1.0)     RGB4{N0f8}(1.0,1.0,1.0)\n",
       " RGB4{N0f8}(1.0,1.0,1.0)  RGB4{N0f8}(1.0,1.0,1.0)     RGB4{N0f8}(1.0,1.0,1.0)"
      ]
     },
     "execution_count": 15,
     "metadata": {},
     "output_type": "execute_result"
    }
   ],
   "source": [
    "banana = load(\"data/104_100.jpg\")"
   ]
  },
  {
   "cell_type": "markdown",
   "metadata": {},
   "source": [
    "Here we have images of apples and bananas. We would eventually like to build a program that can automatically distinguish between the two. However, the computer doesn't \"see\" an apple or a banana; instead, it just sees numbers. \n",
    "\n",
    "An image is encoded in something called an **array**, which is like a container that has boxes or slots for individual pieces of data:\n",
    "\n",
    "![attachment:array_cartoon.png](data/array_cartoon.png)\n",
    "\n",
    "An array is a bunch of numbers in connected boxes; the figure above shows a 1-dimensional array. Our images are instead 2-dimensional arrays, or matrices, of numbers, arranged something like this:"
   ]
  },
  {
   "cell_type": "markdown",
   "metadata": {},
   "source": [
    "![attachment:array2d.png](data/array_2d.png)"
   ]
  },
  {
   "cell_type": "markdown",
   "metadata": {},
   "source": [
    "For example, `apple` is an image, consisting of a 100x100 array of numbers:"
   ]
  },
  {
   "cell_type": "code",
   "execution_count": 16,
   "metadata": {},
   "outputs": [
    {
     "data": {
      "text/plain": [
       "(100, 100)"
      ]
     },
     "execution_count": 16,
     "metadata": {},
     "output_type": "execute_result"
    }
   ],
   "source": [
    "size(apple)"
   ]
  },
  {
   "cell_type": "markdown",
   "metadata": {},
   "source": [
    "We can grab the datum stored in the box at row `i` and column `j` by *indexing* using square brackets: `[i, j]`. For example, let's get the pixel (piece of the image) in box $(40, 60)$, i.e. in the 40th row and 60th column of the image:"
   ]
  },
  {
   "cell_type": "code",
   "execution_count": 17,
   "metadata": {},
   "outputs": [
    {
     "data": {
      "image/svg+xml": [
       "<?xml version=\"1.0\" encoding=\"UTF-8\"?>\n",
       "<!DOCTYPE svg PUBLIC \"-//W3C//DTD SVG 1.1//EN\"\n",
       " \"http://www.w3.org/Graphics/SVG/1.1/DTD/svg11.dtd\">\n",
       "<svg xmlns=\"http://www.w3.org/2000/svg\" version=\"1.1\"\n",
       "     width=\"25mm\" height=\"25mm\" viewBox=\"0 0 1 1\">\n",
       "     <rect width=\"1\" height=\"1\"\n",
       "           fill=\"#85190F\" stroke=\"none\"/>\n",
       "</svg>\n"
      ],
      "text/plain": [
       "RGB4{N0f8}(0.522,0.098,0.059)"
      ]
     },
     "execution_count": 17,
     "metadata": {},
     "output_type": "execute_result"
    }
   ],
   "source": [
    "apple[40, 60]"
   ]
  },
  {
   "cell_type": "code",
   "execution_count": 18,
   "metadata": {},
   "outputs": [
    {
     "data": {
      "image/svg+xml": [
       "<?xml version=\"1.0\" encoding=\"UTF-8\"?>\n",
       "<!DOCTYPE svg PUBLIC \"-//W3C//DTD SVG 1.1//EN\"\n",
       " \"http://www.w3.org/Graphics/SVG/1.1/DTD/svg11.dtd\">\n",
       "<svg xmlns=\"http://www.w3.org/2000/svg\" version=\"1.1\"\n",
       "     width=\"25mm\" height=\"25mm\" viewBox=\"0 0 1 1\">\n",
       "     <rect width=\"1\" height=\"1\"\n",
       "           fill=\"#2D0505\" stroke=\"none\"/>\n",
       "</svg>\n"
      ],
      "text/plain": [
       "RGB4{N0f8}(0.176,0.02,0.02)"
      ]
     },
     "execution_count": 18,
     "metadata": {},
     "output_type": "execute_result"
    }
   ],
   "source": [
    "apple[90, 60]"
   ]
  },
  {
   "cell_type": "code",
   "execution_count": 19,
   "metadata": {},
   "outputs": [
    {
     "name": "stdout",
     "output_type": "stream",
     "text": [
      "RGB4{N0f8}(0.176,0.02,0.02)"
     ]
    }
   ],
   "source": [
    "show(apple[90, 60])"
   ]
  },
  {
   "cell_type": "code",
   "execution_count": 20,
   "metadata": {},
   "outputs": [
    {
     "name": "stdout",
     "output_type": "stream",
     "text": [
      "ColorTypes.RGB4{FixedPointNumbers.Normed{UInt8,8}}\n",
      "  r: FixedPointNumbers.Normed{UInt8,8}\n",
      "    i: UInt8 45\n",
      "  g: FixedPointNumbers.Normed{UInt8,8}\n",
      "    i: UInt8 5\n",
      "  b: FixedPointNumbers.Normed{UInt8,8}\n",
      "    i: UInt8 5\n",
      "  alphadummy: FixedPointNumbers.Normed{UInt8,8}\n",
      "    i: UInt8 255\n"
     ]
    }
   ],
   "source": [
    "dump(apple[90, 60])"
   ]
  },
  {
   "cell_type": "code",
   "execution_count": 21,
   "metadata": {},
   "outputs": [
    {
     "data": {
      "text/plain": [
       "0.17647058823529413"
      ]
     },
     "execution_count": 21,
     "metadata": {},
     "output_type": "execute_result"
    }
   ],
   "source": [
    "45 / 255"
   ]
  },
  {
   "cell_type": "markdown",
   "metadata": {},
   "source": [
    "Julia has good \"introspection\" capabilities."
   ]
  },
  {
   "cell_type": "markdown",
   "metadata": {},
   "source": [
    "We see that Julia displays a coloured box! Julia, via the `Colors.jl` package, is clever enough to display colours in a way that is useful to us humans!\n",
    "\n",
    "So, in fact, an image is a 2D array, in which each element of the array is an object (a collection of numbers) describing a coloured pixel."
   ]
  },
  {
   "cell_type": "markdown",
   "metadata": {},
   "source": [
    "## Colors as numbers\n",
    "\n",
    "How, then, are these colors actually stored? Computers store colors in RGB format, that is they store a value between 0 and 1 for each of three \"channels\": red, green, and blue. Here, 0 means none of that color and 1 means the brightest form of that color. The overall color is a combination of those three colors. \n",
    "\n",
    "For example, we can pull out the `red` value using the function `red` applied to the color. Since internally the actual value is stored in a special format, we choose to convert it to a standard floating-point number using the `Float64` function:"
   ]
  },
  {
   "cell_type": "code",
   "execution_count": 22,
   "metadata": {},
   "outputs": [
    {
     "data": {
      "text/plain": [
       "0.522N0f8"
      ]
     },
     "execution_count": 22,
     "metadata": {},
     "output_type": "execute_result"
    }
   ],
   "source": [
    "red(apple[40, 60])"
   ]
  },
  {
   "cell_type": "code",
   "execution_count": 23,
   "metadata": {},
   "outputs": [
    {
     "data": {
      "text/plain": [
       "0.5215686274509804"
      ]
     },
     "execution_count": 23,
     "metadata": {},
     "output_type": "execute_result"
    }
   ],
   "source": [
    "Float64(red(apple[40, 60]))"
   ]
  },
  {
   "cell_type": "code",
   "execution_count": 25,
   "metadata": {},
   "outputs": [
    {
     "name": "stdout",
     "output_type": "stream",
     "text": [
      "The RGB values are (0.5215686274509804, 0.09803921568627451, 0.058823529411764705)"
     ]
    }
   ],
   "source": [
    "pixel = apple[40, 60]\n",
    "\n",
    "red_value   = Float64( red(pixel) )\n",
    "green_value = Float64( green(pixel) )\n",
    "blue_value  = Float64( blue(pixel) )\n",
    "\n",
    "print(\"The RGB values are ($red_value, $green_value, $blue_value)\")"
   ]
  },
  {
   "cell_type": "markdown",
   "metadata": {},
   "source": [
    "Since the red value is high while the others are low, this means that at pixel `(40, 60)`, the picture of the apple is very red. If we do the same at one of the corners of the picture, we get the following:"
   ]
  },
  {
   "cell_type": "code",
   "execution_count": 26,
   "metadata": {},
   "outputs": [
    {
     "data": {
      "image/png": "[encoded data removed]",
      "text/plain": [
       "100×100 Array{RGB4{N0f8},2}:\n",
       " RGB4{N0f8}(0.996,1.0,0.984)    …  RGB4{N0f8}(1.0,1.0,1.0)\n",
       " RGB4{N0f8}(0.984,1.0,0.98)        RGB4{N0f8}(1.0,1.0,1.0)\n",
       " RGB4{N0f8}(0.98,1.0,0.988)        RGB4{N0f8}(1.0,1.0,1.0)\n",
       " RGB4{N0f8}(0.969,1.0,0.992)       RGB4{N0f8}(1.0,1.0,1.0)\n",
       " RGB4{N0f8}(0.969,1.0,1.0)         RGB4{N0f8}(1.0,1.0,1.0)\n",
       " RGB4{N0f8}(0.98,1.0,1.0)       …  RGB4{N0f8}(1.0,1.0,1.0)\n",
       " RGB4{N0f8}(0.992,0.996,1.0)       RGB4{N0f8}(1.0,1.0,1.0)\n",
       " RGB4{N0f8}(0.996,0.992,1.0)       RGB4{N0f8}(1.0,1.0,1.0)\n",
       " RGB4{N0f8}(0.996,0.988,1.0)       RGB4{N0f8}(1.0,1.0,1.0)\n",
       " RGB4{N0f8}(1.0,0.984,1.0)         RGB4{N0f8}(1.0,1.0,1.0)\n",
       " RGB4{N0f8}(1.0,0.992,1.0)      …  RGB4{N0f8}(1.0,1.0,1.0)\n",
       " RGB4{N0f8}(1.0,0.996,1.0)         RGB4{N0f8}(1.0,1.0,1.0)\n",
       " RGB4{N0f8}(1.0,1.0,1.0)           RGB4{N0f8}(1.0,1.0,1.0)\n",
       " ⋮                              ⋱                         \n",
       " RGB4{N0f8}(0.992,1.0,0.988)       RGB4{N0f8}(1.0,1.0,1.0)\n",
       " RGB4{N0f8}(0.992,1.0,0.988)       RGB4{N0f8}(1.0,1.0,1.0)\n",
       " RGB4{N0f8}(0.992,1.0,0.996)    …  RGB4{N0f8}(1.0,1.0,1.0)\n",
       " RGB4{N0f8}(0.996,1.0,1.0)         RGB4{N0f8}(1.0,1.0,1.0)\n",
       " RGB4{N0f8}(0.996,0.996,0.996)     RGB4{N0f8}(1.0,1.0,1.0)\n",
       " RGB4{N0f8}(0.996,0.996,0.996)     RGB4{N0f8}(1.0,1.0,1.0)\n",
       " RGB4{N0f8}(1.0,0.992,0.996)       RGB4{N0f8}(1.0,1.0,1.0)\n",
       " RGB4{N0f8}(1.0,0.992,0.996)    …  RGB4{N0f8}(1.0,1.0,1.0)\n",
       " RGB4{N0f8}(1.0,1.0,1.0)           RGB4{N0f8}(1.0,1.0,1.0)\n",
       " RGB4{N0f8}(1.0,1.0,1.0)           RGB4{N0f8}(1.0,1.0,1.0)\n",
       " RGB4{N0f8}(1.0,1.0,1.0)           RGB4{N0f8}(1.0,1.0,1.0)\n",
       " RGB4{N0f8}(1.0,1.0,1.0)           RGB4{N0f8}(1.0,1.0,1.0)"
      ]
     },
     "execution_count": 26,
     "metadata": {},
     "output_type": "execute_result"
    }
   ],
   "source": [
    "apple"
   ]
  },
  {
   "cell_type": "code",
   "execution_count": 27,
   "metadata": {},
   "outputs": [
    {
     "name": "stdout",
     "output_type": "stream",
     "text": [
      "The RGB values are (0.996078431372549, 1.0, 0.984313725490196)"
     ]
    }
   ],
   "source": [
    "pixel = apple[1, 1]\n",
    "\n",
    "red_value   = Float64( red(pixel) )\n",
    "green_value = Float64( green(pixel) )\n",
    "blue_value  = Float64( blue(pixel) )\n",
    "\n",
    "print(\"The RGB values are ($red_value, $green_value, $blue_value)\")"
   ]
  },
  {
   "cell_type": "markdown",
   "metadata": {},
   "source": [
    "We see that every color is bright, which corresponds to white."
   ]
  },
  {
   "cell_type": "markdown",
   "metadata": {},
   "source": [
    "## Working on an image as a whole\n",
    "\n",
    "In Julia, to apply a function to the whole of an array, we place a `.` between the function name and the left parenthesis (`(`), so the following gives us the `red` value of every pixel in the image:"
   ]
  },
  {
   "cell_type": "code",
   "execution_count": 28,
   "metadata": {},
   "outputs": [
    {
     "data": {
      "text/plain": [
       "100×100 Array{N0f8,2}:\n",
       " 0.996N0f8  1.0N0f8    1.0N0f8    …  1.0N0f8  1.0N0f8  1.0N0f8  1.0N0f8\n",
       " 0.984N0f8  0.996N0f8  1.0N0f8       1.0N0f8  1.0N0f8  1.0N0f8  1.0N0f8\n",
       " 0.98N0f8   0.984N0f8  0.996N0f8     1.0N0f8  1.0N0f8  1.0N0f8  1.0N0f8\n",
       " 0.969N0f8  0.98N0f8   0.996N0f8     1.0N0f8  1.0N0f8  1.0N0f8  1.0N0f8\n",
       " 0.969N0f8  0.98N0f8   1.0N0f8       1.0N0f8  1.0N0f8  1.0N0f8  1.0N0f8\n",
       " 0.98N0f8   0.984N0f8  1.0N0f8    …  1.0N0f8  1.0N0f8  1.0N0f8  1.0N0f8\n",
       " 0.992N0f8  1.0N0f8    0.996N0f8     1.0N0f8  1.0N0f8  1.0N0f8  1.0N0f8\n",
       " 0.996N0f8  1.0N0f8    1.0N0f8       1.0N0f8  1.0N0f8  1.0N0f8  1.0N0f8\n",
       " 0.996N0f8  1.0N0f8    1.0N0f8       1.0N0f8  1.0N0f8  1.0N0f8  1.0N0f8\n",
       " 1.0N0f8    1.0N0f8    1.0N0f8       1.0N0f8  1.0N0f8  1.0N0f8  1.0N0f8\n",
       " 1.0N0f8    1.0N0f8    1.0N0f8    …  1.0N0f8  1.0N0f8  1.0N0f8  1.0N0f8\n",
       " 1.0N0f8    1.0N0f8    0.992N0f8     1.0N0f8  1.0N0f8  1.0N0f8  1.0N0f8\n",
       " 1.0N0f8    1.0N0f8    0.992N0f8     1.0N0f8  1.0N0f8  1.0N0f8  1.0N0f8\n",
       " ⋮                                ⋱                                    \n",
       " 0.992N0f8  0.992N0f8  0.996N0f8     1.0N0f8  1.0N0f8  1.0N0f8  1.0N0f8\n",
       " 0.992N0f8  0.992N0f8  1.0N0f8       1.0N0f8  1.0N0f8  1.0N0f8  1.0N0f8\n",
       " 0.992N0f8  0.996N0f8  0.996N0f8  …  1.0N0f8  1.0N0f8  1.0N0f8  1.0N0f8\n",
       " 0.996N0f8  0.996N0f8  0.996N0f8     1.0N0f8  1.0N0f8  1.0N0f8  1.0N0f8\n",
       " 0.996N0f8  1.0N0f8    1.0N0f8       1.0N0f8  1.0N0f8  1.0N0f8  1.0N0f8\n",
       " 0.996N0f8  0.996N0f8  1.0N0f8       1.0N0f8  1.0N0f8  1.0N0f8  1.0N0f8\n",
       " 1.0N0f8    1.0N0f8    0.996N0f8     1.0N0f8  1.0N0f8  1.0N0f8  1.0N0f8\n",
       " 1.0N0f8    1.0N0f8    0.996N0f8  …  1.0N0f8  1.0N0f8  1.0N0f8  1.0N0f8\n",
       " 1.0N0f8    1.0N0f8    1.0N0f8       1.0N0f8  1.0N0f8  1.0N0f8  1.0N0f8\n",
       " 1.0N0f8    1.0N0f8    1.0N0f8       1.0N0f8  1.0N0f8  1.0N0f8  1.0N0f8\n",
       " 1.0N0f8    1.0N0f8    1.0N0f8       1.0N0f8  1.0N0f8  1.0N0f8  1.0N0f8\n",
       " 1.0N0f8    1.0N0f8    1.0N0f8       1.0N0f8  1.0N0f8  1.0N0f8  1.0N0f8"
      ]
     },
     "execution_count": 28,
     "metadata": {},
     "output_type": "execute_result"
    }
   ],
   "source": [
    "red.(apple)"
   ]
  },
  {
   "cell_type": "code",
   "execution_count": 29,
   "metadata": {},
   "outputs": [
    {
     "data": {
      "text/plain": [
       "100×100 Array{Float64,2}:\n",
       " 0.996078  1.0       1.0       1.0       …  1.0       1.0  1.0  1.0  1.0\n",
       " 0.984314  0.996078  1.0       1.0          1.0       1.0  1.0  1.0  1.0\n",
       " 0.980392  0.984314  0.996078  1.0          1.0       1.0  1.0  1.0  1.0\n",
       " 0.968627  0.980392  0.996078  1.0          0.996078  1.0  1.0  1.0  1.0\n",
       " 0.968627  0.980392  1.0       1.0          0.988235  1.0  1.0  1.0  1.0\n",
       " 0.980392  0.984314  1.0       1.0       …  0.996078  1.0  1.0  1.0  1.0\n",
       " 0.992157  1.0       0.996078  1.0          1.0       1.0  1.0  1.0  1.0\n",
       " 0.996078  1.0       1.0       0.996078     1.0       1.0  1.0  1.0  1.0\n",
       " 0.996078  1.0       1.0       0.996078     1.0       1.0  1.0  1.0  1.0\n",
       " 1.0       1.0       1.0       0.992157     1.0       1.0  1.0  1.0  1.0\n",
       " 1.0       1.0       1.0       0.992157  …  1.0       1.0  1.0  1.0  1.0\n",
       " 1.0       1.0       0.992157  0.992157     0.988235  1.0  1.0  1.0  1.0\n",
       " 1.0       1.0       0.992157  0.992157     0.996078  1.0  1.0  1.0  1.0\n",
       " ⋮                                       ⋱  ⋮                           \n",
       " 0.992157  0.992157  0.996078  1.0          1.0       1.0  1.0  1.0  1.0\n",
       " 0.992157  0.992157  1.0       1.0          1.0       1.0  1.0  1.0  1.0\n",
       " 0.992157  0.996078  0.996078  1.0       …  1.0       1.0  1.0  1.0  1.0\n",
       " 0.996078  0.996078  0.996078  0.996078     1.0       1.0  1.0  1.0  1.0\n",
       " 0.996078  1.0       1.0       1.0          1.0       1.0  1.0  1.0  1.0\n",
       " 0.996078  0.996078  1.0       1.0          1.0       1.0  1.0  1.0  1.0\n",
       " 1.0       1.0       0.996078  1.0          0.996078  1.0  1.0  1.0  1.0\n",
       " 1.0       1.0       0.996078  0.996078  …  0.996078  1.0  1.0  1.0  1.0\n",
       " 1.0       1.0       1.0       1.0          1.0       1.0  1.0  1.0  1.0\n",
       " 1.0       1.0       1.0       1.0          1.0       1.0  1.0  1.0  1.0\n",
       " 1.0       1.0       1.0       1.0          1.0       1.0  1.0  1.0  1.0\n",
       " 1.0       1.0       1.0       1.0          1.0       1.0  1.0  1.0  1.0"
      ]
     },
     "execution_count": 29,
     "metadata": {},
     "output_type": "execute_result"
    }
   ],
   "source": [
    "Float64.(red.(apple))"
   ]
  },
  {
   "cell_type": "markdown",
   "metadata": {},
   "source": [
    "Note that we get a 2D array (matrix) back."
   ]
  },
  {
   "cell_type": "markdown",
   "metadata": {},
   "source": [
    "Julia's [mathematical standard library](https://docs.julialang.org/en/stable/stdlib/math/#Mathematics-1) has many mathematical functions built in. One of them is the `mean` function, which computes the average value. If we apply this to our apple:"
   ]
  },
  {
   "cell_type": "code",
   "execution_count": 31,
   "metadata": {},
   "outputs": [
    {
     "data": {
      "text/plain": [
       "0.5700988235294118"
      ]
     },
     "execution_count": 31,
     "metadata": {},
     "output_type": "execute_result"
    }
   ],
   "source": [
    "mean(Float64.(red.(apple)))"
   ]
  },
  {
   "cell_type": "markdown",
   "metadata": {},
   "source": [
    "we see that the value indicates that the average amount of red in the image is a value between the amount of red in the apple and the amount of red in the white background. \n",
    "\n",
    "*Somehow we need to teach a computer to use this information about a picture to recognize that there's an apple there!*"
   ]
  },
  {
   "cell_type": "markdown",
   "metadata": {},
   "source": [
    "## A quick riddle\n",
    "\n",
    "Here's a quick riddle. Let's check the average value of red in the image of the banana."
   ]
  },
  {
   "cell_type": "code",
   "execution_count": null,
   "metadata": {},
   "outputs": [],
   "source": []
  },
  {
   "cell_type": "code",
   "execution_count": 34,
   "metadata": {},
   "outputs": [
    {
     "data": {
      "image/png": "[encoded data removed]",
      "text/plain": [
       "100×100 Array{RGB4{N0f8},2}:\n",
       " RGB4{N0f8}(1.0,1.0,1.0)  RGB4{N0f8}(1.0,1.0,1.0)  …  RGB4{N0f8}(1.0,1.0,1.0)\n",
       " RGB4{N0f8}(1.0,1.0,1.0)  RGB4{N0f8}(1.0,1.0,1.0)     RGB4{N0f8}(1.0,1.0,1.0)\n",
       " RGB4{N0f8}(1.0,1.0,1.0)  RGB4{N0f8}(1.0,1.0,1.0)     RGB4{N0f8}(1.0,1.0,1.0)\n",
       " RGB4{N0f8}(1.0,1.0,1.0)  RGB4{N0f8}(1.0,1.0,1.0)     RGB4{N0f8}(1.0,1.0,1.0)\n",
       " RGB4{N0f8}(1.0,1.0,1.0)  RGB4{N0f8}(1.0,1.0,1.0)     RGB4{N0f8}(1.0,1.0,1.0)\n",
       " RGB4{N0f8}(1.0,1.0,1.0)  RGB4{N0f8}(1.0,1.0,1.0)  …  RGB4{N0f8}(1.0,1.0,1.0)\n",
       " RGB4{N0f8}(1.0,1.0,1.0)  RGB4{N0f8}(1.0,1.0,1.0)     RGB4{N0f8}(1.0,1.0,1.0)\n",
       " RGB4{N0f8}(1.0,1.0,1.0)  RGB4{N0f8}(1.0,1.0,1.0)     RGB4{N0f8}(1.0,1.0,1.0)\n",
       " RGB4{N0f8}(1.0,1.0,1.0)  RGB4{N0f8}(1.0,1.0,1.0)     RGB4{N0f8}(1.0,1.0,1.0)\n",
       " RGB4{N0f8}(1.0,1.0,1.0)  RGB4{N0f8}(1.0,1.0,1.0)     RGB4{N0f8}(1.0,1.0,1.0)\n",
       " RGB4{N0f8}(1.0,1.0,1.0)  RGB4{N0f8}(1.0,1.0,1.0)  …  RGB4{N0f8}(1.0,1.0,1.0)\n",
       " RGB4{N0f8}(1.0,1.0,1.0)  RGB4{N0f8}(1.0,1.0,1.0)     RGB4{N0f8}(1.0,1.0,1.0)\n",
       " RGB4{N0f8}(1.0,1.0,1.0)  RGB4{N0f8}(1.0,1.0,1.0)     RGB4{N0f8}(1.0,1.0,1.0)\n",
       " ⋮                                                 ⋱                         \n",
       " RGB4{N0f8}(1.0,1.0,1.0)  RGB4{N0f8}(1.0,1.0,1.0)     RGB4{N0f8}(1.0,1.0,1.0)\n",
       " RGB4{N0f8}(1.0,1.0,1.0)  RGB4{N0f8}(1.0,1.0,1.0)     RGB4{N0f8}(1.0,1.0,1.0)\n",
       " RGB4{N0f8}(1.0,1.0,1.0)  RGB4{N0f8}(1.0,1.0,1.0)  …  RGB4{N0f8}(1.0,1.0,1.0)\n",
       " RGB4{N0f8}(1.0,1.0,1.0)  RGB4{N0f8}(1.0,1.0,1.0)     RGB4{N0f8}(1.0,1.0,1.0)\n",
       " RGB4{N0f8}(1.0,1.0,1.0)  RGB4{N0f8}(1.0,1.0,1.0)     RGB4{N0f8}(1.0,1.0,1.0)\n",
       " RGB4{N0f8}(1.0,1.0,1.0)  RGB4{N0f8}(1.0,1.0,1.0)     RGB4{N0f8}(1.0,1.0,1.0)\n",
       " RGB4{N0f8}(1.0,1.0,1.0)  RGB4{N0f8}(1.0,1.0,1.0)     RGB4{N0f8}(1.0,1.0,1.0)\n",
       " RGB4{N0f8}(1.0,1.0,1.0)  RGB4{N0f8}(1.0,1.0,1.0)  …  RGB4{N0f8}(1.0,1.0,1.0)\n",
       " RGB4{N0f8}(1.0,1.0,1.0)  RGB4{N0f8}(1.0,1.0,1.0)     RGB4{N0f8}(1.0,1.0,1.0)\n",
       " RGB4{N0f8}(1.0,1.0,1.0)  RGB4{N0f8}(1.0,1.0,1.0)     RGB4{N0f8}(1.0,1.0,1.0)\n",
       " RGB4{N0f8}(1.0,1.0,1.0)  RGB4{N0f8}(1.0,1.0,1.0)     RGB4{N0f8}(1.0,1.0,1.0)\n",
       " RGB4{N0f8}(1.0,1.0,1.0)  RGB4{N0f8}(1.0,1.0,1.0)     RGB4{N0f8}(1.0,1.0,1.0)"
      ]
     },
     "execution_count": 34,
     "metadata": {},
     "output_type": "execute_result"
    }
   ],
   "source": [
    "banana"
   ]
  },
  {
   "cell_type": "code",
   "execution_count": 32,
   "metadata": {},
   "outputs": [
    {
     "data": {
      "text/plain": [
       "0.9040309803921569"
      ]
     },
     "execution_count": 32,
     "metadata": {},
     "output_type": "execute_result"
    }
   ],
   "source": [
    "mean(Float64.(red.(banana)))"
   ]
  },
  {
   "cell_type": "markdown",
   "metadata": {},
   "source": [
    "Oh no, that's more red than our apple? This isn't a mistake and is actually true! Before you move onto the next exercise, examine the images of the apple and the banana very carefully and see if you can explain why this is expected."
   ]
  },
  {
   "cell_type": "markdown",
   "metadata": {},
   "source": [
    "#### Exercise 1\n",
    "\n",
    "What is the average value of blue in the banana?"
   ]
  },
  {
   "cell_type": "markdown",
   "metadata": {},
   "source": [
    "#### Exercise 2\n",
    "\n",
    "Does the banana have more blue or more green?"
   ]
  },
  {
   "cell_type": "code",
   "execution_count": 35,
   "metadata": {},
   "outputs": [
    {
     "data": {
      "image/png": "[encoded data removed]",
      "text/plain": [
       "100×100 Array{RGB4{N0f8},2}:\n",
       " RGB4{N0f8}(0.996,1.0,0.984)    …  RGB4{N0f8}(1.0,1.0,1.0)\n",
       " RGB4{N0f8}(0.984,1.0,0.98)        RGB4{N0f8}(1.0,1.0,1.0)\n",
       " RGB4{N0f8}(0.98,1.0,0.988)        RGB4{N0f8}(1.0,1.0,1.0)\n",
       " RGB4{N0f8}(0.969,1.0,0.992)       RGB4{N0f8}(1.0,1.0,1.0)\n",
       " RGB4{N0f8}(0.969,1.0,1.0)         RGB4{N0f8}(1.0,1.0,1.0)\n",
       " RGB4{N0f8}(0.98,1.0,1.0)       …  RGB4{N0f8}(1.0,1.0,1.0)\n",
       " RGB4{N0f8}(0.992,0.996,1.0)       RGB4{N0f8}(1.0,1.0,1.0)\n",
       " RGB4{N0f8}(0.996,0.992,1.0)       RGB4{N0f8}(1.0,1.0,1.0)\n",
       " RGB4{N0f8}(0.996,0.988,1.0)       RGB4{N0f8}(1.0,1.0,1.0)\n",
       " RGB4{N0f8}(1.0,0.984,1.0)         RGB4{N0f8}(1.0,1.0,1.0)\n",
       " RGB4{N0f8}(1.0,0.992,1.0)      …  RGB4{N0f8}(1.0,1.0,1.0)\n",
       " RGB4{N0f8}(1.0,0.996,1.0)         RGB4{N0f8}(1.0,1.0,1.0)\n",
       " RGB4{N0f8}(1.0,1.0,1.0)           RGB4{N0f8}(1.0,1.0,1.0)\n",
       " ⋮                              ⋱                         \n",
       " RGB4{N0f8}(0.992,1.0,0.988)       RGB4{N0f8}(1.0,1.0,1.0)\n",
       " RGB4{N0f8}(0.992,1.0,0.988)       RGB4{N0f8}(1.0,1.0,1.0)\n",
       " RGB4{N0f8}(0.992,1.0,0.996)    …  RGB4{N0f8}(1.0,1.0,1.0)\n",
       " RGB4{N0f8}(0.996,1.0,1.0)         RGB4{N0f8}(1.0,1.0,1.0)\n",
       " RGB4{N0f8}(0.996,0.996,0.996)     RGB4{N0f8}(1.0,1.0,1.0)\n",
       " RGB4{N0f8}(0.996,0.996,0.996)     RGB4{N0f8}(1.0,1.0,1.0)\n",
       " RGB4{N0f8}(1.0,0.992,0.996)       RGB4{N0f8}(1.0,1.0,1.0)\n",
       " RGB4{N0f8}(1.0,0.992,0.996)    …  RGB4{N0f8}(1.0,1.0,1.0)\n",
       " RGB4{N0f8}(1.0,1.0,1.0)           RGB4{N0f8}(1.0,1.0,1.0)\n",
       " RGB4{N0f8}(1.0,1.0,1.0)           RGB4{N0f8}(1.0,1.0,1.0)\n",
       " RGB4{N0f8}(1.0,1.0,1.0)           RGB4{N0f8}(1.0,1.0,1.0)\n",
       " RGB4{N0f8}(1.0,1.0,1.0)           RGB4{N0f8}(1.0,1.0,1.0)"
      ]
     },
     "execution_count": 35,
     "metadata": {},
     "output_type": "execute_result"
    }
   ],
   "source": [
    "apple"
   ]
  },
  {
   "cell_type": "code",
   "execution_count": 36,
   "metadata": {},
   "outputs": [
    {
     "data": {
      "text/plain": [
       "Array{ColorTypes.RGB4{FixedPointNumbers.Normed{UInt8,8}},2}"
      ]
     },
     "execution_count": 36,
     "metadata": {},
     "output_type": "execute_result"
    }
   ],
   "source": [
    "typeof(apple)"
   ]
  },
  {
   "cell_type": "code",
   "execution_count": 38,
   "metadata": {},
   "outputs": [],
   "source": [
    "using Images"
   ]
  },
  {
   "cell_type": "code",
   "execution_count": 41,
   "metadata": {},
   "outputs": [
    {
     "data": {
      "text/plain": [
       "3×100×100 ChannelView(::Array{RGB4{N0f8},2}) with element type FixedPointNumbers.Normed{UInt8,8}:\n",
       "[:, :, 1] =\n",
       " 0.996N0f8  0.984N0f8  0.98N0f8   …  1.0N0f8  1.0N0f8  1.0N0f8  1.0N0f8\n",
       " 1.0N0f8    1.0N0f8    1.0N0f8       1.0N0f8  1.0N0f8  1.0N0f8  1.0N0f8\n",
       " 0.984N0f8  0.98N0f8   0.988N0f8     1.0N0f8  1.0N0f8  1.0N0f8  1.0N0f8\n",
       "\n",
       "[:, :, 2] =\n",
       " 1.0N0f8    0.996N0f8  0.984N0f8  …  1.0N0f8  1.0N0f8  1.0N0f8  1.0N0f8\n",
       " 1.0N0f8    1.0N0f8    1.0N0f8       1.0N0f8  1.0N0f8  1.0N0f8  1.0N0f8\n",
       " 0.992N0f8  0.992N0f8  0.996N0f8     1.0N0f8  1.0N0f8  1.0N0f8  1.0N0f8\n",
       "\n",
       "[:, :, 3] =\n",
       " 1.0N0f8    1.0N0f8    0.996N0f8  …  1.0N0f8  1.0N0f8  1.0N0f8  1.0N0f8\n",
       " 0.992N0f8  0.992N0f8  0.996N0f8     1.0N0f8  1.0N0f8  1.0N0f8  1.0N0f8\n",
       " 0.988N0f8  0.996N0f8  0.996N0f8     1.0N0f8  1.0N0f8  1.0N0f8  1.0N0f8\n",
       "\n",
       "...\n",
       "\n",
       "[:, :, 98] =\n",
       " 1.0N0f8  1.0N0f8  1.0N0f8  1.0N0f8  …  1.0N0f8  1.0N0f8  1.0N0f8  1.0N0f8\n",
       " 1.0N0f8  1.0N0f8  1.0N0f8  1.0N0f8     1.0N0f8  1.0N0f8  1.0N0f8  1.0N0f8\n",
       " 1.0N0f8  1.0N0f8  1.0N0f8  1.0N0f8     1.0N0f8  1.0N0f8  1.0N0f8  1.0N0f8\n",
       "\n",
       "[:, :, 99] =\n",
       " 1.0N0f8  1.0N0f8  1.0N0f8  1.0N0f8  …  1.0N0f8  1.0N0f8  1.0N0f8  1.0N0f8\n",
       " 1.0N0f8  1.0N0f8  1.0N0f8  1.0N0f8     1.0N0f8  1.0N0f8  1.0N0f8  1.0N0f8\n",
       " 1.0N0f8  1.0N0f8  1.0N0f8  1.0N0f8     1.0N0f8  1.0N0f8  1.0N0f8  1.0N0f8\n",
       "\n",
       "[:, :, 100] =\n",
       " 1.0N0f8  1.0N0f8  1.0N0f8  1.0N0f8  …  1.0N0f8  1.0N0f8  1.0N0f8  1.0N0f8\n",
       " 1.0N0f8  1.0N0f8  1.0N0f8  1.0N0f8     1.0N0f8  1.0N0f8  1.0N0f8  1.0N0f8\n",
       " 1.0N0f8  1.0N0f8  1.0N0f8  1.0N0f8     1.0N0f8  1.0N0f8  1.0N0f8  1.0N0f8"
      ]
     },
     "execution_count": 41,
     "metadata": {},
     "output_type": "execute_result"
    }
   ],
   "source": [
    "ch = channelview(apple)"
   ]
  },
  {
   "cell_type": "code",
   "execution_count": 48,
   "metadata": {},
   "outputs": [
    {
     "data": {
      "text/plain": [
       "0"
      ]
     },
     "execution_count": 48,
     "metadata": {},
     "output_type": "execute_result"
    }
   ],
   "source": [
    "ch[1, 1, 1] = 0\n",
    "ch[2, 1, 1] = 0\n",
    "ch[3, 1, 1] = 0"
   ]
  },
  {
   "cell_type": "code",
   "execution_count": 49,
   "metadata": {},
   "outputs": [
    {
     "data": {
      "image/png": "[encoded data removed]",
      "text/plain": [
       "100×100 Array{RGB4{N0f8},2}:\n",
       " RGB4{N0f8}(0.0,0.0,0.0)        …  RGB4{N0f8}(1.0,1.0,1.0)\n",
       " RGB4{N0f8}(0.984,1.0,0.98)        RGB4{N0f8}(1.0,1.0,1.0)\n",
       " RGB4{N0f8}(0.98,1.0,0.988)        RGB4{N0f8}(1.0,1.0,1.0)\n",
       " RGB4{N0f8}(0.969,1.0,0.992)       RGB4{N0f8}(1.0,1.0,1.0)\n",
       " RGB4{N0f8}(0.969,1.0,1.0)         RGB4{N0f8}(1.0,1.0,1.0)\n",
       " RGB4{N0f8}(0.98,1.0,1.0)       …  RGB4{N0f8}(1.0,1.0,1.0)\n",
       " RGB4{N0f8}(0.992,0.996,1.0)       RGB4{N0f8}(1.0,1.0,1.0)\n",
       " RGB4{N0f8}(0.996,0.992,1.0)       RGB4{N0f8}(1.0,1.0,1.0)\n",
       " RGB4{N0f8}(0.996,0.988,1.0)       RGB4{N0f8}(1.0,1.0,1.0)\n",
       " RGB4{N0f8}(1.0,0.984,1.0)         RGB4{N0f8}(1.0,1.0,1.0)\n",
       " RGB4{N0f8}(1.0,0.992,1.0)      …  RGB4{N0f8}(1.0,1.0,1.0)\n",
       " RGB4{N0f8}(1.0,0.996,1.0)         RGB4{N0f8}(1.0,1.0,1.0)\n",
       " RGB4{N0f8}(1.0,1.0,1.0)           RGB4{N0f8}(1.0,1.0,1.0)\n",
       " ⋮                              ⋱                         \n",
       " RGB4{N0f8}(0.992,1.0,0.988)       RGB4{N0f8}(1.0,1.0,1.0)\n",
       " RGB4{N0f8}(0.992,1.0,0.988)       RGB4{N0f8}(1.0,1.0,1.0)\n",
       " RGB4{N0f8}(0.992,1.0,0.996)    …  RGB4{N0f8}(1.0,1.0,1.0)\n",
       " RGB4{N0f8}(0.996,1.0,1.0)         RGB4{N0f8}(1.0,1.0,1.0)\n",
       " RGB4{N0f8}(0.996,0.996,0.996)     RGB4{N0f8}(1.0,1.0,1.0)\n",
       " RGB4{N0f8}(0.996,0.996,0.996)     RGB4{N0f8}(1.0,1.0,1.0)\n",
       " RGB4{N0f8}(1.0,0.992,0.996)       RGB4{N0f8}(1.0,1.0,1.0)\n",
       " RGB4{N0f8}(1.0,0.992,0.996)    …  RGB4{N0f8}(1.0,1.0,1.0)\n",
       " RGB4{N0f8}(1.0,1.0,1.0)           RGB4{N0f8}(1.0,1.0,1.0)\n",
       " RGB4{N0f8}(1.0,1.0,1.0)           RGB4{N0f8}(1.0,1.0,1.0)\n",
       " RGB4{N0f8}(1.0,1.0,1.0)           RGB4{N0f8}(1.0,1.0,1.0)\n",
       " RGB4{N0f8}(1.0,1.0,1.0)           RGB4{N0f8}(1.0,1.0,1.0)"
      ]
     },
     "execution_count": 49,
     "metadata": {},
     "output_type": "execute_result"
    }
   ],
   "source": [
    "apple"
   ]
  },
  {
   "cell_type": "code",
   "execution_count": null,
   "metadata": {},
   "outputs": [],
   "source": []
  }
 ],
 "metadata": {
  "kernelspec": {
   "display_name": "Julia 0.6.2",
   "language": "julia",
   "name": "julia-0.6"
  },
  "language_info": {
   "file_extension": ".jl",
   "mimetype": "application/julia",
   "name": "julia",
   "version": "0.6.2"
  }
 },
 "nbformat": 4,
 "nbformat_minor": 2
}
