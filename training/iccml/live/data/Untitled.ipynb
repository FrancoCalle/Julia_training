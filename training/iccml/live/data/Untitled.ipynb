{
 "cells": [
  {
   "cell_type": "code",
   "execution_count": 2,
   "metadata": {},
   "outputs": [
    {
     "name": "stderr",
     "output_type": "stream",
     "text": [
      "\u001b[1m\u001b[36mINFO: \u001b[39m\u001b[22m\u001b[36mRecompiling stale cache file /Users/dpsanders/.julia/lib/v0.6/JuliaDB.ji for module JuliaDB.\n",
      "\u001b[39m"
     ]
    }
   ],
   "source": [
    "using JuliaDB"
   ]
  },
  {
   "cell_type": "code",
   "execution_count": 7,
   "metadata": {},
   "outputs": [
    {
     "name": "stdout",
     "output_type": "stream",
     "text": [
      "search: \u001b[1ml\u001b[22m\u001b[1mo\u001b[22m\u001b[1ma\u001b[22m\u001b[1md\u001b[22m\u001b[1mt\u001b[22m\u001b[1ma\u001b[22m\u001b[1mb\u001b[22m\u001b[1ml\u001b[22m\u001b[1me\u001b[22m \u001b[1ml\u001b[22m\u001b[1mo\u001b[22m\u001b[1ma\u001b[22m\u001b[1md\u001b[22m_\u001b[1mt\u001b[22m\u001b[1ma\u001b[22m\u001b[1mb\u001b[22m\u001b[1ml\u001b[22m\u001b[1me\u001b[22m\n",
      "\n"
     ]
    },
    {
     "data": {
      "text/markdown": [
       "`loadtable(files::Union{AbstractVector,String}; <options>)`\n",
       "\n",
       "Load a [table](@ref Table) from CSV files.\n",
       "\n",
       "`files` is either a vector of file paths, or a directory name.\n",
       "\n",
       "# Options:\n",
       "\n",
       "  * `output::AbstractString` – directory name to write the table to. By default data is loaded directly to memory. Specifying this option will allow you to load data larger than the available memory.\n",
       "  * `indexcols::Vector` – columns to use as primary key columns. (defaults to [])\n",
       "  * `datacols::Vector` – non-indexed columns. (defaults to all columns but indexed columns). Specify this to only load a subset of columns. In place of the name of a column, you can specify a tuple of names – this will treat any column with one of those names as the same column, but use the first name in the tuple. This is useful when the same column changes name between CSV files. (e.g. `vendor_id` and `VendorId`)\n",
       "  * `distributed::Bool` – should the output dataset be loaded as a distributed table? If true, this will use all available worker processes to load the data. (defaults to true if workers are available, false if not)\n",
       "  * `chunks::Int` – number of chunks to create when loading distributed. (defaults to number of workers)\n",
       "  * `delim::Char` – the delimiter character. (defaults to `,`). Use `spacedelim=true` to split by spaces.\n",
       "  * `spacedelim::Bool`: parse space-delimited files. `delim` has no effect if true.\n",
       "  * `quotechar::Char` – quote character. (defaults to `\"`)\n",
       "  * `escapechar::Char` – escape character. (defaults to `\"`)\n",
       "  * `filenamecol::Union{Symbol, Pair}` – create a column containing the file names from where each row came from. This argument gives a name to the column. By default, `basename(name)` of the name is kept, and \".csv\" suffix will be stripped. To provide a custom function to apply on the names, use a `name => Function` pair. By default, no file name column will be created.\n",
       "  * `header_exists::Bool` – does header exist in the files? (defaults to true)\n",
       "  * `colnames::Vector{String}` – specify column names for the files, use this with (`header_exists=false`, otherwise first row is discarded). By default column names are assumed to be present in the file.\n",
       "  * `samecols` – a vector of tuples of strings where each tuple contains alternative names for the same column. For example, if some files have the name \"vendor_id\" and others have the name \"VendorID\", pass `samecols=[(\"VendorID\", \"vendor_id\")]`.\n",
       "  * `colparsers` – either a vector or dictionary of data types or an [`AbstractToken` object](https://juliacomputing.com/TextParse.jl/stable/#Available-AbstractToken-types-1) from [TextParse](https://juliacomputing.com/TextParse.jl/stable) package. By default, these are inferred automatically. See `type_detect_rows` option below.\n",
       "  * `type_detect_rows`: number of rows to use to infer the initial `colparsers` defaults to 20.\n",
       "  * `nastrings::Vector{String}` – strings that are to be considered NA. (defaults to `TextParse.NA_STRINGS`)\n",
       "  * `skiplines_begin::Char` – skip some lines in the beginning of each file. (doesn't skip by default)\n",
       "  * `usecache::Bool`: (vestigial)\n"
      ],
      "text/plain": [
       "`loadtable(files::Union{AbstractVector,String}; <options>)`\n",
       "\n",
       "Load a [table](@ref Table) from CSV files.\n",
       "\n",
       "`files` is either a vector of file paths, or a directory name.\n",
       "\n",
       "# Options:\n",
       "\n",
       "  * `output::AbstractString` – directory name to write the table to. By default data is loaded directly to memory. Specifying this option will allow you to load data larger than the available memory.\n",
       "  * `indexcols::Vector` – columns to use as primary key columns. (defaults to [])\n",
       "  * `datacols::Vector` – non-indexed columns. (defaults to all columns but indexed columns). Specify this to only load a subset of columns. In place of the name of a column, you can specify a tuple of names – this will treat any column with one of those names as the same column, but use the first name in the tuple. This is useful when the same column changes name between CSV files. (e.g. `vendor_id` and `VendorId`)\n",
       "  * `distributed::Bool` – should the output dataset be loaded as a distributed table? If true, this will use all available worker processes to load the data. (defaults to true if workers are available, false if not)\n",
       "  * `chunks::Int` – number of chunks to create when loading distributed. (defaults to number of workers)\n",
       "  * `delim::Char` – the delimiter character. (defaults to `,`). Use `spacedelim=true` to split by spaces.\n",
       "  * `spacedelim::Bool`: parse space-delimited files. `delim` has no effect if true.\n",
       "  * `quotechar::Char` – quote character. (defaults to `\"`)\n",
       "  * `escapechar::Char` – escape character. (defaults to `\"`)\n",
       "  * `filenamecol::Union{Symbol, Pair}` – create a column containing the file names from where each row came from. This argument gives a name to the column. By default, `basename(name)` of the name is kept, and \".csv\" suffix will be stripped. To provide a custom function to apply on the names, use a `name => Function` pair. By default, no file name column will be created.\n",
       "  * `header_exists::Bool` – does header exist in the files? (defaults to true)\n",
       "  * `colnames::Vector{String}` – specify column names for the files, use this with (`header_exists=false`, otherwise first row is discarded). By default column names are assumed to be present in the file.\n",
       "  * `samecols` – a vector of tuples of strings where each tuple contains alternative names for the same column. For example, if some files have the name \"vendor_id\" and others have the name \"VendorID\", pass `samecols=[(\"VendorID\", \"vendor_id\")]`.\n",
       "  * `colparsers` – either a vector or dictionary of data types or an [`AbstractToken` object](https://juliacomputing.com/TextParse.jl/stable/#Available-AbstractToken-types-1) from [TextParse](https://juliacomputing.com/TextParse.jl/stable) package. By default, these are inferred automatically. See `type_detect_rows` option below.\n",
       "  * `type_detect_rows`: number of rows to use to infer the initial `colparsers` defaults to 20.\n",
       "  * `nastrings::Vector{String}` – strings that are to be considered NA. (defaults to `TextParse.NA_STRINGS`)\n",
       "  * `skiplines_begin::Char` – skip some lines in the beginning of each file. (doesn't skip by default)\n",
       "  * `usecache::Bool`: (vestigial)\n"
      ]
     },
     "execution_count": 7,
     "metadata": {},
     "output_type": "execute_result"
    }
   ],
   "source": [
    "?loadtable"
   ]
  },
  {
   "cell_type": "code",
   "execution_count": 8,
   "metadata": {},
   "outputs": [
    {
     "data": {
      "text/plain": [
       "Table with 490 rows, 5 columns:\n",
       "height_  width_  red_      green_    blue\n",
       "─────────────────────────────────────────────\n",
       "98       99      0.583507  0.500662  0.207504\n",
       "50       99      0.609666  0.514869  0.186871\n",
       "52       99      0.610012  0.515759  0.187504\n",
       "99       69      0.568033  0.492939  0.239316\n",
       "51       99      0.609766  0.51485   0.183329\n",
       "53       99      0.608089  0.514609  0.183374\n",
       "53       99      0.608676  0.515487  0.186206\n",
       "53       99      0.609278  0.516486  0.188582\n",
       "99       67      0.569099  0.494501  0.241941\n",
       "54       99      0.610284  0.516183  0.189116\n",
       "54       99      0.607329  0.515344  0.188351\n",
       "56       99      0.608367  0.51465   0.188733\n",
       "⋮\n",
       "37       99      0.528731  0.456548  0.230871\n",
       "37       99      0.524028  0.452379  0.226256\n",
       "37       99      0.523906  0.452571  0.230475\n",
       "39       99      0.523823  0.4514    0.229759\n",
       "39       99      0.522489  0.449973  0.233683\n",
       "41       99      0.517573  0.444391  0.227029\n",
       "41       99      0.515956  0.441912  0.230229\n",
       "41       99      0.517585  0.444827  0.234798\n",
       "41       99      0.510357  0.436022  0.228139\n",
       "43       99      0.508873  0.43433   0.230683\n",
       "31       99      0.528205  0.440139  0.199588"
      ]
     },
     "execution_count": 8,
     "metadata": {},
     "output_type": "execute_result"
    }
   ],
   "source": [
    "t = loadtable(\"Banana.dat\", delim='\\t')"
   ]
  },
  {
   "cell_type": "code",
   "execution_count": 9,
   "metadata": {},
   "outputs": [
    {
     "data": {
      "text/plain": [
       "IndexedTables.NextTable{IndexedTables.Columns{NamedTuples._NT_height___width___red___green___blue{Int64,Int64,Float64,Float64,Float64},NamedTuples._NT_height___width___red___green___blue{Array{Int64,1},Array{Int64,1},Array{Float64,1},Array{Float64,1},Array{Float64,1}}}}"
      ]
     },
     "execution_count": 9,
     "metadata": {},
     "output_type": "execute_result"
    }
   ],
   "source": [
    "typeof(t)"
   ]
  },
  {
   "cell_type": "code",
   "execution_count": null,
   "metadata": {},
   "outputs": [],
   "source": []
  }
 ],
 "metadata": {
  "kernelspec": {
   "display_name": "Julia 0.6.2",
   "language": "julia",
   "name": "julia-0.6"
  },
  "language_info": {
   "file_extension": ".jl",
   "mimetype": "application/julia",
   "name": "julia",
   "version": "0.6.2"
  }
 },
 "nbformat": 4,
 "nbformat_minor": 2
}
