{
 "cells": [
  {
   "cell_type": "markdown",
   "metadata": {},
   "source": [
    "## Intro to neurons\n",
    "\n",
    "At this point, we know how to build models and have a computer automatically learn how to match the model to data. This is the core of how any machine learning method works. \n",
    "\n",
    "Now, let's narrow our focus and look at **neural networks**. Neural networks (or \"neural nets\", for short) are a specific choice of a **model**. It's a network made up of **neurons**; this, in turn, leads to the question, \"what is a neuron?\""
   ]
  },
  {
   "cell_type": "markdown",
   "metadata": {},
   "source": [
    "### Models with multiple inputs\n",
    "\n",
    "So far, we have been using the sigmoid function as our model. One of the forms of the sigmoid function we've used is\n",
    "\n",
    "$$\\sigma_{w, b}(x) = \\frac{1}{1 + \\exp(-wx + b)},$$\n",
    "\n",
    "where `x` and `w` are both single numbers. We have been using this function to model how the amount of the color green in an image (`x`) can be used to determine if an image shows an apple or a banana. \n",
    "\n",
    "But what if we had multiple data features we wanted to fit? \n",
    "\n",
    "We could then extend our model to include multiple features like\n",
    "\n",
    "$$\\sigma_{\\mathbf{w},b}(\\mathbf{x}) = \\frac{1}{1 + \\exp(-w_1 x_1 - w_2 x_2 - \\cdots - w_n x_n + b)}$$\n",
    "\n",
    "Note that now $\\mathbf{x}$ and $\\mathbf{w}$ are vectors with many components, rather than a single number. \n",
    "\n",
    "For example, $x_1$ might be the amount of the color green in an image, $x_2$ could be the height of the object in the picture, $x_3$ could be the width, and so forth. We can add information for as many features as we have! Our model now has more parameters, but the same idea of gradient descent (\"rolling the ball downhill\") will still work to train our model.\n",
    "\n",
    "This version of the sigmoid model that takes multiple inputs is an example of a **neuron**."
   ]
  },
  {
   "cell_type": "markdown",
   "metadata": {},
   "source": [
    "In the video, we see that one huge class of learning techniques is based around neurons, that is, *artificial neurons*. These are caricatures of real, biological neurons. Both *artificial* and *biological* neurons have several inputs $x_1, \\ldots, x_n$, and a single output, $y$. Schematically they look like this:"
   ]
  },
  {
   "cell_type": "code",
   "execution_count": 2,
   "metadata": {},
   "outputs": [
    {
     "data": {
      "image/svg+xml": [
       "<?xml version=\"1.0\" encoding=\"utf-8\"?>\n",
       "<svg xmlns=\"http://www.w3.org/2000/svg\" xmlns:xlink=\"http://www.w3.org/1999/xlink\" width=\"600\" height=\"400\" viewBox=\"0 0 600 400\">\n",
       "<defs>\n",
       "  <clipPath id=\"clip2400\">\n",
       "    <rect x=\"0\" y=\"0\" width=\"600\" height=\"400\"/>\n",
       "  </clipPath>\n",
       "</defs>\n",
       "<polygon clip-path=\"url(#clip2400)\" points=\"\n",
       "0,400 600,400 600,0 0,0 \n",
       "  \" fill=\"#ffffff\" fill-opacity=\"1\"/>\n",
       "<defs>\n",
       "  <clipPath id=\"clip2401\">\n",
       "    <rect x=\"120\" y=\"0\" width=\"421\" height=\"400\"/>\n",
       "  </clipPath>\n",
       "</defs>\n",
       "<polygon clip-path=\"url(#clip2400)\" points=\"\n",
       "174.989,375.869 444.828,375.869 444.828,11.811 174.989,11.811 \n",
       "  \" fill=\"#ffffff\" fill-opacity=\"1\"/>\n",
       "<defs>\n",
       "  <clipPath id=\"clip2402\">\n",
       "    <rect x=\"174\" y=\"11\" width=\"271\" height=\"365\"/>\n",
       "  </clipPath>\n",
       "</defs>\n",
       "<polyline clip-path=\"url(#clip2402)\" style=\"stroke:#000000; stroke-width:1; stroke-opacity:0.5; fill:none\" points=\"\n",
       "  174.989,354.455 230.67,354.455 \n",
       "  \"/>\n",
       "<polyline clip-path=\"url(#clip2402)\" style=\"stroke:#000000; stroke-width:1; stroke-opacity:0.5; fill:none\" points=\"\n",
       "  174.989,247.376 230.67,247.376 \n",
       "  \"/>\n",
       "<polyline clip-path=\"url(#clip2402)\" style=\"stroke:#000000; stroke-width:1; stroke-opacity:0.5; fill:none\" points=\"\n",
       "  174.989,140.297 230.67,140.297 \n",
       "  \"/>\n",
       "<polyline clip-path=\"url(#clip2402)\" style=\"stroke:#000000; stroke-width:1; stroke-opacity:0.5; fill:none\" points=\"\n",
       "  174.989,33.2177 230.67,33.2177 \n",
       "  \"/>\n",
       "<polygon clip-path=\"url(#clip2402)\" points=\"\n",
       "277.785,354.455 277.678,352.317 277.358,350.2 276.828,348.126 276.094,346.115 275.163,344.187 274.044,342.362 272.749,340.658 271.29,339.092 269.681,337.679 \n",
       "  267.94,336.434 266.083,335.369 264.129,334.494 262.098,333.819 260.009,333.35 257.884,333.092 255.744,333.048 253.61,333.217 251.503,333.599 249.446,334.189 \n",
       "  247.457,334.981 245.557,335.968 243.766,337.14 242.1,338.485 240.577,339.989 239.212,341.638 238.018,343.415 237.008,345.302 236.191,347.28 235.575,349.331 \n",
       "  235.168,351.432 234.972,353.564 234.99,355.705 235.221,357.833 235.664,359.927 236.314,361.967 237.164,363.931 238.206,365.801 239.43,367.558 240.823,369.184 \n",
       "  242.371,370.662 244.059,371.979 245.87,373.12 247.786,374.075 249.787,374.834 251.855,375.389 253.967,375.735 256.104,375.869 258.243,375.788 260.363,375.495 \n",
       "  262.444,374.991 264.464,374.282 266.403,373.374 268.241,372.278 269.961,371.004 271.546,369.564 272.978,367.974 274.245,366.248 275.333,364.404 276.232,362.461 \n",
       "  276.932,360.438 277.426,358.356 277.711,356.234 277.785,354.455 \n",
       "  \" fill=\"#008000\" fill-opacity=\"0.5\"/>\n",
       "<polyline clip-path=\"url(#clip2402)\" style=\"stroke:#000000; stroke-width:1; stroke-opacity:0.5; fill:none\" points=\"\n",
       "  277.785,354.455 277.678,352.317 277.358,350.2 276.828,348.126 276.094,346.115 275.163,344.187 274.044,342.362 272.749,340.658 271.29,339.092 269.681,337.679 \n",
       "  267.94,336.434 266.083,335.369 264.129,334.494 262.098,333.819 260.009,333.35 257.884,333.092 255.744,333.048 253.61,333.217 251.503,333.599 249.446,334.189 \n",
       "  247.457,334.981 245.557,335.968 243.766,337.14 242.1,338.485 240.577,339.989 239.212,341.638 238.018,343.415 237.008,345.302 236.191,347.28 235.575,349.331 \n",
       "  235.168,351.432 234.972,353.564 234.99,355.705 235.221,357.833 235.664,359.927 236.314,361.967 237.164,363.931 238.206,365.801 239.43,367.558 240.823,369.184 \n",
       "  242.371,370.662 244.059,371.979 245.87,373.12 247.786,374.075 249.787,374.834 251.855,375.389 253.967,375.735 256.104,375.869 258.243,375.788 260.363,375.495 \n",
       "  262.444,374.991 264.464,374.282 266.403,373.374 268.241,372.278 269.961,371.004 271.546,369.564 272.978,367.974 274.245,366.248 275.333,364.404 276.232,362.461 \n",
       "  276.932,360.438 277.426,358.356 277.711,356.234 277.785,354.455 \n",
       "  \"/>\n",
       "<polygon clip-path=\"url(#clip2402)\" points=\"\n",
       "277.785,247.376 277.678,245.238 277.358,243.121 276.828,241.047 276.094,239.036 275.163,237.108 274.044,235.283 272.749,233.579 271.29,232.013 269.681,230.6 \n",
       "  267.94,229.355 266.083,228.29 264.129,227.415 262.098,226.74 260.009,226.271 257.884,226.013 255.744,225.969 253.61,226.138 251.503,226.52 249.446,227.11 \n",
       "  247.457,227.902 245.557,228.889 243.766,230.061 242.1,231.406 240.577,232.91 239.212,234.559 238.018,236.336 237.008,238.223 236.191,240.202 235.575,242.252 \n",
       "  235.168,244.353 234.972,246.485 234.99,248.626 235.221,250.754 235.664,252.848 236.314,254.888 237.164,256.853 238.206,258.722 239.43,260.479 240.823,262.105 \n",
       "  242.371,263.583 244.059,264.9 245.87,266.041 247.786,266.996 249.787,267.755 251.855,268.31 253.967,268.656 256.104,268.79 258.243,268.709 260.363,268.416 \n",
       "  262.444,267.912 264.464,267.203 266.403,266.295 268.241,265.199 269.961,263.925 271.546,262.485 272.978,260.895 274.245,259.169 275.333,257.325 276.232,255.382 \n",
       "  276.932,253.359 277.426,251.277 277.711,249.155 277.785,247.376 \n",
       "  \" fill=\"#008000\" fill-opacity=\"0.5\"/>\n",
       "<polyline clip-path=\"url(#clip2402)\" style=\"stroke:#000000; stroke-width:1; stroke-opacity:0.5; fill:none\" points=\"\n",
       "  277.785,247.376 277.678,245.238 277.358,243.121 276.828,241.047 276.094,239.036 275.163,237.108 274.044,235.283 272.749,233.579 271.29,232.013 269.681,230.6 \n",
       "  267.94,229.355 266.083,228.29 264.129,227.415 262.098,226.74 260.009,226.271 257.884,226.013 255.744,225.969 253.61,226.138 251.503,226.52 249.446,227.11 \n",
       "  247.457,227.902 245.557,228.889 243.766,230.061 242.1,231.406 240.577,232.91 239.212,234.559 238.018,236.336 237.008,238.223 236.191,240.202 235.575,242.252 \n",
       "  235.168,244.353 234.972,246.485 234.99,248.626 235.221,250.754 235.664,252.848 236.314,254.888 237.164,256.853 238.206,258.722 239.43,260.479 240.823,262.105 \n",
       "  242.371,263.583 244.059,264.9 245.87,266.041 247.786,266.996 249.787,267.755 251.855,268.31 253.967,268.656 256.104,268.79 258.243,268.709 260.363,268.416 \n",
       "  262.444,267.912 264.464,267.203 266.403,266.295 268.241,265.199 269.961,263.925 271.546,262.485 272.978,260.895 274.245,259.169 275.333,257.325 276.232,255.382 \n",
       "  276.932,253.359 277.426,251.277 277.711,249.155 277.785,247.376 \n",
       "  \"/>\n",
       "<polygon clip-path=\"url(#clip2402)\" points=\"\n",
       "277.785,140.297 277.678,138.159 277.358,136.042 276.828,133.968 276.094,131.957 275.163,130.029 274.044,128.204 272.749,126.5 271.29,124.934 269.681,123.521 \n",
       "  267.94,122.276 266.083,121.211 264.129,120.336 262.098,119.661 260.009,119.192 257.884,118.934 255.744,118.89 253.61,119.059 251.503,119.441 249.446,120.031 \n",
       "  247.457,120.823 245.557,121.81 243.766,122.982 242.1,124.327 240.577,125.831 239.212,127.48 238.018,129.257 237.008,131.144 236.191,133.123 235.575,135.173 \n",
       "  235.168,137.274 234.972,139.406 234.99,141.547 235.221,143.675 235.664,145.769 236.314,147.809 237.164,149.774 238.206,151.643 239.43,153.4 240.823,155.026 \n",
       "  242.371,156.504 244.059,157.821 245.87,158.962 247.786,159.917 249.787,160.676 251.855,161.231 253.967,161.577 256.104,161.711 258.243,161.63 260.363,161.337 \n",
       "  262.444,160.833 264.464,160.124 266.403,159.217 268.241,158.12 269.961,156.846 271.546,155.406 272.978,153.816 274.245,152.09 275.333,150.246 276.232,148.303 \n",
       "  276.932,146.281 277.426,144.198 277.711,142.076 277.785,140.297 \n",
       "  \" fill=\"#008000\" fill-opacity=\"0.5\"/>\n",
       "<polyline clip-path=\"url(#clip2402)\" style=\"stroke:#000000; stroke-width:1; stroke-opacity:0.5; fill:none\" points=\"\n",
       "  277.785,140.297 277.678,138.159 277.358,136.042 276.828,133.968 276.094,131.957 275.163,130.029 274.044,128.204 272.749,126.5 271.29,124.934 269.681,123.521 \n",
       "  267.94,122.276 266.083,121.211 264.129,120.336 262.098,119.661 260.009,119.192 257.884,118.934 255.744,118.89 253.61,119.059 251.503,119.441 249.446,120.031 \n",
       "  247.457,120.823 245.557,121.81 243.766,122.982 242.1,124.327 240.577,125.831 239.212,127.48 238.018,129.257 237.008,131.144 236.191,133.123 235.575,135.173 \n",
       "  235.168,137.274 234.972,139.406 234.99,141.547 235.221,143.675 235.664,145.769 236.314,147.809 237.164,149.774 238.206,151.643 239.43,153.4 240.823,155.026 \n",
       "  242.371,156.504 244.059,157.821 245.87,158.962 247.786,159.917 249.787,160.676 251.855,161.231 253.967,161.577 256.104,161.711 258.243,161.63 260.363,161.337 \n",
       "  262.444,160.833 264.464,160.124 266.403,159.217 268.241,158.12 269.961,156.846 271.546,155.406 272.978,153.816 274.245,152.09 275.333,150.246 276.232,148.303 \n",
       "  276.932,146.281 277.426,144.198 277.711,142.076 277.785,140.297 \n",
       "  \"/>\n",
       "<polygon clip-path=\"url(#clip2402)\" points=\"\n",
       "277.785,33.2177 277.678,31.0797 277.358,28.963 276.828,26.8889 276.094,24.878 275.163,22.9504 274.044,21.1254 272.749,19.4213 271.29,17.8549 269.681,16.4421 \n",
       "  267.94,15.1969 266.083,14.1318 264.129,13.2573 262.098,12.5823 260.009,12.1135 257.884,11.8555 255.744,11.811 253.61,11.9804 251.503,12.362 249.446,12.9519 \n",
       "  247.457,13.7444 245.557,14.7314 243.766,15.9031 242.1,17.2478 240.577,18.7521 239.212,20.4009 238.018,22.1778 237.008,24.065 236.191,26.0436 235.575,28.094 \n",
       "  235.168,30.1955 234.972,32.3272 234.99,34.4678 235.221,36.5959 235.664,38.6903 236.314,40.73 237.164,42.6946 238.206,44.5645 239.43,46.3211 240.823,47.9467 \n",
       "  242.371,49.4252 244.059,50.7417 245.87,51.8832 247.786,52.8381 249.787,53.597 251.855,54.1523 253.967,54.4984 256.104,54.6318 258.243,54.5513 260.363,54.2577 \n",
       "  262.444,53.7538 264.464,53.0447 266.403,52.1376 268.241,51.0413 269.961,49.767 271.546,48.3274 272.978,46.7368 274.245,45.011 275.333,43.1675 276.232,41.2245 \n",
       "  276.932,39.2016 277.426,37.1188 277.711,34.9971 277.785,33.2177 \n",
       "  \" fill=\"#008000\" fill-opacity=\"0.5\"/>\n",
       "<polyline clip-path=\"url(#clip2402)\" style=\"stroke:#000000; stroke-width:1; stroke-opacity:0.5; fill:none\" points=\"\n",
       "  277.785,33.2177 277.678,31.0797 277.358,28.963 276.828,26.8889 276.094,24.878 275.163,22.9504 274.044,21.1254 272.749,19.4213 271.29,17.8549 269.681,16.4421 \n",
       "  267.94,15.1969 266.083,14.1318 264.129,13.2573 262.098,12.5823 260.009,12.1135 257.884,11.8555 255.744,11.811 253.61,11.9804 251.503,12.362 249.446,12.9519 \n",
       "  247.457,13.7444 245.557,14.7314 243.766,15.9031 242.1,17.2478 240.577,18.7521 239.212,20.4009 238.018,22.1778 237.008,24.065 236.191,26.0436 235.575,28.094 \n",
       "  235.168,30.1955 234.972,32.3272 234.99,34.4678 235.221,36.5959 235.664,38.6903 236.314,40.73 237.164,42.6946 238.206,44.5645 239.43,46.3211 240.823,47.9467 \n",
       "  242.371,49.4252 244.059,50.7417 245.87,51.8832 247.786,52.8381 249.787,53.597 251.855,54.1523 253.967,54.4984 256.104,54.6318 258.243,54.5513 260.363,54.2577 \n",
       "  262.444,53.7538 264.464,53.0447 266.403,52.1376 268.241,51.0413 269.961,49.767 271.546,48.3274 272.978,46.7368 274.245,45.011 275.333,43.1675 276.232,41.2245 \n",
       "  276.932,39.2016 277.426,37.1188 277.711,34.9971 277.785,33.2177 \n",
       "  \"/>\n",
       "<polygon clip-path=\"url(#clip2402)\" points=\"\n",
       "384.864,193.836 384.757,191.698 384.437,189.581 383.907,187.507 383.173,185.496 382.242,183.569 381.123,181.744 379.828,180.04 378.368,178.473 376.76,177.061 \n",
       "  375.019,175.815 373.162,174.75 371.208,173.876 369.177,173.201 367.088,172.732 364.963,172.474 362.823,172.429 360.689,172.599 358.582,172.98 356.524,173.57 \n",
       "  354.536,174.363 352.636,175.35 350.845,176.522 349.179,177.866 347.656,179.371 346.291,181.019 345.097,182.796 344.087,184.683 343.27,186.662 342.654,188.712 \n",
       "  342.246,190.814 342.051,192.946 342.069,195.086 342.3,197.214 342.743,199.309 343.393,201.348 344.243,203.313 345.285,205.183 346.509,206.94 347.902,208.565 \n",
       "  349.45,210.044 351.138,211.36 352.949,212.502 354.865,213.457 356.866,214.215 358.934,214.771 361.046,215.117 363.183,215.25 365.322,215.17 367.442,214.876 \n",
       "  369.523,214.372 371.543,213.663 373.482,212.756 375.32,211.66 377.04,210.385 378.625,208.946 380.057,207.355 381.324,205.629 382.412,203.786 383.311,201.843 \n",
       "  384.011,199.82 384.505,197.737 384.79,195.616 384.864,193.836 \n",
       "  \" fill=\"#ff0000\" fill-opacity=\"0.5\"/>\n",
       "<polyline clip-path=\"url(#clip2402)\" style=\"stroke:#000000; stroke-width:1; stroke-opacity:0.5; fill:none\" points=\"\n",
       "  384.864,193.836 384.757,191.698 384.437,189.581 383.907,187.507 383.173,185.496 382.242,183.569 381.123,181.744 379.828,180.04 378.368,178.473 376.76,177.061 \n",
       "  375.019,175.815 373.162,174.75 371.208,173.876 369.177,173.201 367.088,172.732 364.963,172.474 362.823,172.429 360.689,172.599 358.582,172.98 356.524,173.57 \n",
       "  354.536,174.363 352.636,175.35 350.845,176.522 349.179,177.866 347.656,179.371 346.291,181.019 345.097,182.796 344.087,184.683 343.27,186.662 342.654,188.712 \n",
       "  342.246,190.814 342.051,192.946 342.069,195.086 342.3,197.214 342.743,199.309 343.393,201.348 344.243,203.313 345.285,205.183 346.509,206.94 347.902,208.565 \n",
       "  349.45,210.044 351.138,211.36 352.949,212.502 354.865,213.457 356.866,214.215 358.934,214.771 361.046,215.117 363.183,215.25 365.322,215.17 367.442,214.876 \n",
       "  369.523,214.372 371.543,213.663 373.482,212.756 375.32,211.66 377.04,210.385 378.625,208.946 380.057,207.355 381.324,205.629 382.412,203.786 383.311,201.843 \n",
       "  384.011,199.82 384.505,197.737 384.79,195.616 384.864,193.836 \n",
       "  \"/>\n",
       "<polyline clip-path=\"url(#clip2402)\" style=\"stroke:#000000; stroke-width:1; stroke-opacity:0.5; fill:none\" points=\"\n",
       "  270.624,333.072 349.193,215.219 \n",
       "  \"/>\n",
       "<polyline clip-path=\"url(#clip2402)\" style=\"stroke:#000000; stroke-width:1; stroke-opacity:0.5; fill:none\" points=\"\n",
       "  279.355,235.883 340.462,205.329 \n",
       "  \"/>\n",
       "<polyline clip-path=\"url(#clip2402)\" style=\"stroke:#000000; stroke-width:1; stroke-opacity:0.5; fill:none\" points=\"\n",
       "  279.355,151.79 340.462,182.343 \n",
       "  \"/>\n",
       "<polyline clip-path=\"url(#clip2402)\" style=\"stroke:#000000; stroke-width:1; stroke-opacity:0.5; fill:none\" points=\"\n",
       "  270.624,54.6005 349.193,172.453 \n",
       "  \"/>\n",
       "<polyline clip-path=\"url(#clip2402)\" style=\"stroke:#000000; stroke-width:1; stroke-opacity:0.5; fill:none\" points=\"\n",
       "  389.147,193.836 444.828,193.836 \n",
       "  \"/>\n",
       "</svg>\n"
      ]
     },
     "execution_count": 2,
     "metadata": {},
     "output_type": "execute_result"
    }
   ],
   "source": [
    "include(\"draw_neural_net.jl\")\n",
    "\n",
    "number_inputs, number_neurons = 4, 1\n",
    "\n",
    "draw_network([number_inputs, number_neurons])"
   ]
  },
  {
   "cell_type": "markdown",
   "metadata": {},
   "source": [
    "We should read this as showing how information flows from left to right: \n",
    "- 4 pieces of input information arrive (shown in green on the left);\n",
    "\n",
    "- the neuron (shown in red on the right) receives all the inputs, processes them, and outputs a single number to the right."
   ]
  },
  {
   "cell_type": "markdown",
   "metadata": {},
   "source": [
    "In other words, a neuron is just a type of function that takes multiple inputs and returns a single output.\n",
    "\n",
    "The simplest interesting case that we will look at in this notebook is when there are just two pieces of input data:"
   ]
  },
  {
   "cell_type": "code",
   "execution_count": null,
   "metadata": {},
   "outputs": [],
   "source": [
    "draw_network([2, 1])"
   ]
  },
  {
   "cell_type": "markdown",
   "metadata": {},
   "source": [
    "Each link between circles above represents a **weight** $w$ that can be modified to allow the neuron to learn, so in this case the neuron has two weights, $w_1$ and $w_2$. \n",
    "\n",
    "The neuron also has a single bias $b$, and an **activation function**, which we will take to be the $\\sigma$ sigmoidal function that we have been using. (Note that other activation functions can be used!)\n",
    "\n",
    "Let's call our neuron $f_{w_1,w_2, b}(x_1, x_2)$, where\n",
    "\n",
    "$$f_{w_1,w_2, b}(x_1, x_2) := \\sigma(w_1 x_1 + w_2 x_2 + b).$$\n",
    "\n",
    "Note that $f_{w_1,w_2, b}(x_1, x_2)$ has 3 parameters: two weights and a bias.\n",
    "\n",
    "To simplify the notation, and to prepare for more complicated scenarios later, we put the two weights into a vector, and the two data values into another vector:\n",
    "\n",
    "$$\n",
    "\\mathbf{w} = \\begin{pmatrix} w_1 \\\\ w_2 \\end{pmatrix};\n",
    "\\qquad\n",
    "\\mathbf{x} = \\begin{pmatrix} x_1 \\\\ x_2 \\end{pmatrix}.\n",
    "$$\n",
    "\n",
    "We thus have\n",
    "\n",
    "$$f_{\\mathbf{w}, b}(\\mathbf{x}) = \\sigma(\\mathbf{w} \\cdot \\mathbf{x} + b),$$\n",
    "\n",
    "where the dot product $\\mathbf{w} \\cdot \\mathbf{x}$ is an abbreviated syntax for $w_1 x_1 + w_2 x_2$."
   ]
  },
  {
   "cell_type": "markdown",
   "metadata": {},
   "source": [
    "#### Exercise 1\n",
    "\n",
    "Declare the function `f(x, w, b)` in Julia. `f` should take vectors `x` and `w` as vectors and `b` as a scalar. Furthermore `f` should call\n",
    "\n",
    "```julia\n",
    "σ(x) = 1 / (1 + exp(-x))\n",
    "```\n",
    "\n",
    "What output do you get for\n",
    "\n",
    "```julia\n",
    "f(3, 4, 5)\n",
    "```\n",
    "?"
   ]
  },
  {
   "cell_type": "code",
   "execution_count": 3,
   "metadata": {},
   "outputs": [
    {
     "data": {
      "text/plain": [
       "11"
      ]
     },
     "execution_count": 3,
     "metadata": {},
     "output_type": "execute_result"
    }
   ],
   "source": [
    "dot([1, 2], [3, 4])"
   ]
  },
  {
   "cell_type": "code",
   "execution_count": 4,
   "metadata": {},
   "outputs": [
    {
     "data": {
      "text/plain": [
       "2-element Array{Int64,1}:\n",
       " 3\n",
       " 4"
      ]
     },
     "execution_count": 4,
     "metadata": {},
     "output_type": "execute_result"
    }
   ],
   "source": [
    "ww = [1, 2]\n",
    "xx = [3, 4]"
   ]
  },
  {
   "cell_type": "code",
   "execution_count": 5,
   "metadata": {},
   "outputs": [
    {
     "data": {
      "text/plain": [
       "11"
      ]
     },
     "execution_count": 5,
     "metadata": {},
     "output_type": "execute_result"
    }
   ],
   "source": [
    "dot(ww, xx)"
   ]
  },
  {
   "cell_type": "code",
   "execution_count": 6,
   "metadata": {},
   "outputs": [
    {
     "data": {
      "text/plain": [
       "11"
      ]
     },
     "execution_count": 6,
     "metadata": {},
     "output_type": "execute_result"
    }
   ],
   "source": [
    "ww ⋅ xx"
   ]
  },
  {
   "cell_type": "code",
   "execution_count": 7,
   "metadata": {},
   "outputs": [
    {
     "data": {
      "text/plain": [
       "dot (generic function with 12 methods)"
      ]
     },
     "execution_count": 7,
     "metadata": {},
     "output_type": "execute_result"
    }
   ],
   "source": [
    "⋅"
   ]
  },
  {
   "cell_type": "code",
   "execution_count": 8,
   "metadata": {},
   "outputs": [
    {
     "data": {
      "text/plain": [
       "12"
      ]
     },
     "execution_count": 8,
     "metadata": {},
     "output_type": "execute_result"
    }
   ],
   "source": [
    "3 ⋅ 4"
   ]
  },
  {
   "cell_type": "code",
   "execution_count": 10,
   "metadata": {},
   "outputs": [
    {
     "data": {
      "text/plain": [
       "f (generic function with 1 method)"
      ]
     },
     "execution_count": 10,
     "metadata": {},
     "output_type": "execute_result"
    }
   ],
   "source": [
    "f(x, w, b) = σ(w ⋅ x + b)"
   ]
  },
  {
   "cell_type": "code",
   "execution_count": null,
   "metadata": {},
   "outputs": [],
   "source": []
  }
 ],
 "metadata": {
  "kernelspec": {
   "display_name": "Julia 0.6.2",
   "language": "julia",
   "name": "julia-0.6"
  },
  "language_info": {
   "file_extension": ".jl",
   "mimetype": "application/julia",
   "name": "julia",
   "version": "0.6.2"
  }
 },
 "nbformat": 4,
 "nbformat_minor": 2
}
