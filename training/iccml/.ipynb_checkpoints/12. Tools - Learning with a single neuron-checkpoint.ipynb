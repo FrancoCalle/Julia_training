{
 "cells": [
  {
   "cell_type": "markdown",
   "metadata": {},
   "source": [
    "## Learning with a single neuron\n",
    "\n",
    "In this notebook, we'll build a neuron that classifies an image as an apple or as a banana using multiple features from the image. We'll **train** our neuron using data from many images that have already been correctly categorised; our neuron will thereby **learn** what parameters to use, by minimizing a loss function using gradient descent.\n",
    "\n",
    "We'll do this with almost the simplest possible neuron, namely one that takes just two inputs:"
   ]
  },
  {
   "cell_type": "code",
   "execution_count": null,
   "metadata": {},
   "outputs": [],
   "source": [
    "include(\"draw_neural_net.jl\")\n",
    "number_inputs, number_neurons = 2, 1\n",
    "draw_network([number_inputs, number_neurons])"
   ]
  },
  {
   "cell_type": "markdown",
   "metadata": {},
   "source": [
    "To do this, we need to work with and *clean* some real data. Let's get started!"
   ]
  },
  {
   "cell_type": "markdown",
   "metadata": {},
   "source": [
    "## Loading in some data"
   ]
  },
  {
   "cell_type": "markdown",
   "metadata": {},
   "source": [
    "Let's load in some real data! We'll use data that we have prepared from photos of apples and bananas; it turns out to be stored on disk in data files as \"tab-separated values\". We can read this data in with the `CSV.jl` package, as follows."
   ]
  },
  {
   "cell_type": "code",
   "execution_count": null,
   "metadata": {},
   "outputs": [],
   "source": [
    "using CSV\n",
    "using TextParse\n",
    "\n",
    "applecols, applecolnames = TextParse.csvread(\"data/Apple_Golden_1.dat\", '\\t')\n",
    "bananacols, bananacolnames = TextParse.csvread(\"data/bananas.dat\", '\\t');"
   ]
  },
  {
   "cell_type": "markdown",
   "metadata": {},
   "source": [
    "Next, we want to use `DataFrames` to store the information from our CSV files."
   ]
  },
  {
   "cell_type": "code",
   "execution_count": null,
   "metadata": {},
   "outputs": [],
   "source": [
    "using DataFrames"
   ]
  },
  {
   "cell_type": "markdown",
   "metadata": {},
   "source": [
    "One way we can create a `DataFrame` is to pass a dictionary that contain arrays as values and descriptive names for those arrays as keys to the `DataFrame` function:"
   ]
  },
  {
   "cell_type": "code",
   "execution_count": null,
   "metadata": {},
   "outputs": [],
   "source": [
    "apples =  DataFrame(Dict(strip(name) => col for (name, col) in zip(applecolnames, applecols)))\n",
    "bananas = DataFrame(Dict(strip(name) => col for (name, col) in zip(bananacolnames, bananacols)))"
   ]
  },
  {
   "cell_type": "markdown",
   "metadata": {},
   "source": [
    "Above, we used a \"dictionary comprehension\" to create each `DataFrame`. Here is some code to create a dictionary, `appledict`, via a dictionary comprehension:\n",
    "\n",
    "```julia\n",
    "appledict = Dict(strip(name)=>col for (name, col) in zip(applecolnames, applecols))\n",
    "```\n",
    "For now, don't worry about the exact syntax used here. Just note that the dictionary created associates names with arrays, and that we've used a dictionary like this to create a `DataFrame` with named columns!\n",
    "\n",
    "So for now, each of the two data sets is stored in a `DataFrame` (from the `DataFrames.jl` package)."
   ]
  },
  {
   "cell_type": "markdown",
   "metadata": {},
   "source": [
    "### Roadmap\n",
    "\n",
    "To use a neuron with two inputs, we will use just two of the data (numbers) for each image, say columns 3 and 4, the mean amount of red and the mean amount of green; each data point will then be a 2-dimensional vector, and the data points lie on a two-dimensional plane. We will have many input data, labelled with an index $i$. We will denote the $i$th data point as  $\\mathbf{x}^{(i)}$.\n",
    "\n",
    "The goal is that our neuron will take a single point on the two-dimensional plane as its input, and should return a single output that **classifies** it as an apple ($0$) or a banana ($1$). \n",
    "\n",
    "To do so, it must \"**learn**\" the correct values of its parameters $\\mathbf{w}$ and $b$. For this learning to take place, we'll need **labels** for each of the input data, which identify them as either an apple (0) or as a banana (1). \n",
    "\n",
    "These labels will, in turn, allow us to create a loss function, which will allow our algorithm to learn to determine if a given choice of parameters does a good or a poor job of classifying our fruit images. \n",
    "\n",
    "**So what do we have left to do?**\n",
    "\n",
    "The above might sound complex, but luckily we can break it down into a series of actionable steps:\n",
    "\n",
    "1. Clean our input data (amounts of red and green) to get it into a usable format;\n",
    "2. Create a sequence of labels that we can use to identify correct and incorrect classifications;\n",
    "3. Define a loss function that contains parameters;\n",
    "4. Implement an algorithm to pick parameters for our neuron by minimizing the loss function with respect to the parameters;\n",
    "5. Use all of the above to train our neuron how to classify images as apples or bananas!"
   ]
  },
  {
   "cell_type": "markdown",
   "metadata": {},
   "source": [
    "#### Note: \n",
    "\n",
    "Note that *in general we cannot expect that a single neuron will be adequate for classification.* \n",
    "\n",
    "If a single neuron struggles to classify our images, we may need to use a more complicated neural network structure (which corresponds to using a more complicated function)."
   ]
  },
  {
   "cell_type": "markdown",
   "metadata": {},
   "source": [
    "## Cleaning the data"
   ]
  },
  {
   "cell_type": "markdown",
   "metadata": {},
   "source": [
    "Usually it will be necessary to \"clean\" the data in some way, i.e. pre-process it, before it can be used for whichever task you are interested in."
   ]
  },
  {
   "cell_type": "markdown",
   "metadata": {},
   "source": [
    "Our next *meta*-exercise will be to collect all the data from columns 3 and 4 into a *single* Julia vector `x` (of which each entry is itself a vector), and the labels into a single vector `y`. Let's do this in a series of steps!"
   ]
  },
  {
   "cell_type": "markdown",
   "metadata": {},
   "source": [
    "#### Exercise 1\n",
    "\n",
    "First, let's practice grabbing a single column of a `DataFrame`. To grab a column, you can index into the `DataFrame` with the name of the column you want, passed as a symbol. In Julia, symbols are names preceded by a `:`. For example, we could grab the \"height\" column from `apples` by indexing into `apples` with the symbol, `:height`:\n",
    "\n",
    "```julia\n",
    "apples[:height]\n",
    "```\n",
    "\n",
    "Index into `apples` to get the \"red\" column. What is the type of the object returned? How many entries does it have?\n",
    "\n",
    "A) Array, 5 <br>\n",
    "B) DataArray, 5 <br>\n",
    "C) Array, 64 <br>\n",
    "D) DataArray, 64 <br>\n",
    "E) Array, 492 <br>\n",
    "F) DataArray, 492"
   ]
  },
  {
   "cell_type": "markdown",
   "metadata": {},
   "source": [
    "#### Exercise 2\n",
    "\n",
    "We can grab an individual entry of a `DataFrame` by specifying the row index of the entry and the column symbol. For example, to access the height of the 4th image of an apple, we would execute\n",
    "\n",
    "```julia\n",
    "apples[4, :height]\n",
    "```\n",
    "\n",
    "How much red is there in the 63rd image of a banana?"
   ]
  },
  {
   "cell_type": "markdown",
   "metadata": {},
   "source": [
    "#### Exercise 3\n",
    "\n",
    "We want to reorganize data from the 3rd and 4th columns of `apples` and `bananas` to put that data in a single array. Let's start by organizing the data from the 3rd and 4th columns of `apples` into a single array, `x_apples`. Create `x_apples` such that there is a single element in `x_apples` for each image in `apples`. The $i^\\mathrm{th}$ element in `x_apples` should be a `Vector`, i.e. a 1D `Array`, with two elements - the amount of red and the amount of blue in the $i^\\mathrm{th}$ image from `apples`.\n",
    "\n",
    "Similarly create the `Array` `x_bananas` using data from `bananas`."
   ]
  },
  {
   "cell_type": "code",
   "execution_count": null,
   "metadata": {},
   "outputs": [],
   "source": []
  },
  {
   "cell_type": "markdown",
   "metadata": {},
   "source": [
    "#### Exercise 4\n",
    "\n",
    "Next we want to combine the elements of `x_apples` and `x_bananas` into a single array, `xs`. `xs` should contain, first, all the elements of `x_apples`, and then all the elements of `x_bananas`. Use the `vcat` function to create `xs`."
   ]
  },
  {
   "cell_type": "markdown",
   "metadata": {},
   "source": [
    "#### Exercise 5\n",
    "\n",
    "If you've gotten this far, our data is in the format we want for learning. Now we need labels! We want to store a label (either a `0` or a `1` for every apple or banana image in our data set in an array called `ys`. Recall that \"0\" refers to an apple and \"1\" refers to a banana.\n",
    "\n",
    "Create an array `ys` where the $i^\\mathrm{th}$ element of `ys` is a `0` if the $i^\\mathrm{th}$ element of `xs` is an apple, and where the $i^\\mathrm{th}$ element of `ys` is a `1` if the $i^\\mathrm{th}$ element of `xs` is a banana."
   ]
  },
  {
   "cell_type": "markdown",
   "metadata": {},
   "source": [
    "#### Exercise 6\n",
    "\n",
    "Add data points for all apple and banana images in our data sets to a plot using `scatter`. Plot data points for apples in one color and use a different color for banana data points.\n",
    "\n",
    "Hint: You may want to use the `first` and `last` functions."
   ]
  },
  {
   "cell_type": "markdown",
   "metadata": {},
   "source": [
    "## \"Learning\" by hand"
   ]
  },
  {
   "cell_type": "markdown",
   "metadata": {},
   "source": [
    "Intuitively, looking at the plot of the data, we see that it should be \"easy\" to find a function that separates the data into bananas on one side and apples on the other: we just need to draw a straight line that divides the two clouds of data. We can do this \"by hand\", as follows."
   ]
  },
  {
   "cell_type": "markdown",
   "metadata": {},
   "source": [
    "In the code below, the neuron will learn a function of the form $\\sigma(\\mathbf{w} \\cdot \\mathbf{x} + b)$. Since $\\sigma$ looks like a smooth version of a step function, we can think of $\\sigma$ classifying based on whether the value of its output argument is less than `0.5` or greater than `0.5`. \n",
    "\n",
    "**Game**: Use the interactive visualization to find suitable values of $\\mathbf{w}$ and $b$ such that the hyperplane $\\sigma(w_1 x_1 + w_2 x_2 + b) = 0.5$ divides the data. This is the same as the hyperplane for which $w_1 x_1 + w_2 x_2 + b = 0$ ! (Note that there are many such values!)"
   ]
  },
  {
   "cell_type": "markdown",
   "metadata": {},
   "source": [
    "We can solve for $x_2$ via \n",
    "\n",
    "$$x_2 = -(w_1 x_1 + b) / w_2,$$\n",
    "\n",
    "and use this to draw the corresponding hyperplane."
   ]
  },
  {
   "cell_type": "code",
   "execution_count": null,
   "metadata": {},
   "outputs": [],
   "source": [
    "using Interact"
   ]
  },
  {
   "cell_type": "code",
   "execution_count": null,
   "metadata": {},
   "outputs": [],
   "source": [
    "@manipulate for w1 in -2:0.01:3, w2 in -2:0.01:3, b in -2:0.01:3\n",
    "    \n",
    "    scatter(first.(x_apples), last.(x_apples), m=:cross, label=\"apples\")\n",
    "    scatter!(first.(x_bananas), last.(x_bananas), label=\"bananas\")\n",
    "    \n",
    "    ylims!(0.3, 0.66)\n",
    "    xlims!(0.45, 0.75)\n",
    "    \n",
    "    plot!(x -> -(w1*x + b) / w2)\n",
    "end"
   ]
  },
  {
   "cell_type": "markdown",
   "metadata": {},
   "source": [
    "## How can the neuron *learn* to classify the data?"
   ]
  },
  {
   "cell_type": "markdown",
   "metadata": {},
   "source": [
    "We are now ready for our first experience of **machine learning**: we will let the neuron learn automatically by processing data and tuning model parameters accordingly (the process we call \"learning\")!"
   ]
  },
  {
   "cell_type": "markdown",
   "metadata": {},
   "source": [
    "For given values of the parameters $w_1$, $w_2$ and $b$, the function $f_{\\mathbf{w}, b}$ maps a vector of length $2$ to a number between $0$ and $1$ (due to the definition of $\\sigma$). Now we want to have a neuron *learn* suitable values of these parameters. \n",
    "\n",
    "We want to discover (learn!) the parameters such that $f$ models the relationship between the data we explored above about the fruit images, and outputs a classification of the fruit: $0$ if it corresponds to an apple, and $1$ if it is a banana.\n",
    "\n",
    "So the neuron's input will be a vector of 2 pieces of information about an image; let's call the data about the $i$th image $\\mathbf{x}^{(i)}$.\n",
    "We also are given the label that says which type of fruit it is: $0$ for an apple, and $1$ for a banana; let's call this *desired* output number $y^{(i)}$. When we feed in the $i$th data, $\\mathbf{x}^{(i)}$, we want the neuron to give an output that is *as close as possible* to the desired output $y^{(i)}$; i.e. it should **minimize** the mean-squared distance\n",
    "\n",
    "$$L_i = [f_{\\mathbf{w}, b}(\\mathbf{x}^{(i)}) - y^{(i)} ]^2.$$"
   ]
  },
  {
   "cell_type": "markdown",
   "metadata": {},
   "source": [
    "However, now we see a key difference from what we did previously: the neuron should vary its parameters in such a way that it manages to minimize this distance for *all* of the input data, simultaneously!\n",
    "\n",
    "How can we express this mathematically? We once again define a loss function, $L(\\mathbf{w}, b)$, which tells us \"how wrong\" we are when the parameters take on the given values, and then **minimize** this loss function with respect to all of its parameters.\n",
    "\n",
    "One way to take account of all the data at once is to use the \"mean-squared error\" loss function, which is the mean (squared) over all the differences between the output of the network, $f_{\\mathbf{w}, b}(\\mathbf{x}^{(i)})$ on the $i$th data, and the desired output $y^{(i)}$:\n",
    "\n",
    "$$L_\\mathrm{total}(\\mathbf{w}, b) = \\frac{1}{N} \\sum_i L_i = \\frac{1}{N} \\sum_i [f_{\\mathbf{w}, b}(\\mathbf{x}^{(i)}) - y^{(i)} ]^2,$$\n",
    "\n",
    "where $N$ is the total number of data in the training set.\n",
    "\n",
    "Why do we choose this particular loss function? Because the minimum possible value of this loss function is $0$ (since it is a sum of squares), and this is reached only when the neural network perfectly predicts the output. If we can find a way to minimize this loss function, we will get as close as possible to this perfect prediction. (In general, though, we won't be able to get an exact prediction.)"
   ]
  },
  {
   "cell_type": "markdown",
   "metadata": {},
   "source": [
    "## Minimizing the loss function: *stochastic* gradient descent"
   ]
  },
  {
   "cell_type": "markdown",
   "metadata": {},
   "source": [
    "We already know how to minimise loss functions on a computer: we just calculate the gradient, and do gradient descent! But here we hit a problem: the function $L_\\mathrm{total}$ usually has a *lot* of terms, and so calculating the gradient of that function will be very time-consuming.\n",
    "\n",
    "Instead, we will use a variant of gradient descent, called *stochastic* gradient descent. Here, the idea is that we will not use the complete loss function; instead, at each step we will choose a random data point, number $i$, and do a step of gradient descent for the partial loss function $L_i$ *corresponding to only that data point*."
   ]
  },
  {
   "cell_type": "markdown",
   "metadata": {},
   "source": [
    "**Exercise 7:** \n",
    "\n",
    "Write functions for the partial loss function `L(w, b, x, y)`.\n",
    "\n",
    "To do this, recall\n",
    "\n",
    "$$\n",
    "\\mathbf{x} = \\begin{pmatrix} x_1 \\\\ x_2 \\end{pmatrix};\n",
    "\\qquad\n",
    "\\mathbf{w} = \\begin{pmatrix} w_1 \\\\ w_2 \\end{pmatrix};\n",
    "\\qquad\n",
    "f_{\\mathbf{w}, b}(\\mathbf{x}) = \\sigma(\\mathbf{w} \\cdot \\mathbf{x} + b),$$\n",
    "\n",
    "and declare `f(x, w, b)` as in notebook 8."
   ]
  },
  {
   "cell_type": "markdown",
   "metadata": {},
   "source": [
    "#### Exercise 8\n",
    "\n",
    "Write a function for the gradient of `L`, i.e. `∇L(w, b, x, y)`, with respect to the parameters $(w_1, w_2, b)$, using finite differences. $∇L$ will be a vector with one component per parameter:\n",
    "\n",
    "$$∇L = \\left( \\frac{\\partial L}{\\partial w_1}, \\frac{\\partial L}{\\partial w_2}, \\frac{\\partial L}{\\partial b} \\right).$$"
   ]
  },
  {
   "cell_type": "code",
   "execution_count": null,
   "metadata": {},
   "outputs": [],
   "source": []
  },
  {
   "cell_type": "markdown",
   "metadata": {},
   "source": [
    "#### Exercise 9\n",
    "\n",
    "Implement stochastic gradient descent in the function `stochastic_gradient_descent(L, w, b, xs, ys, N = 1000)`. Use this function to minimize the function $L_\\mathrm{total}$.\n",
    "\n",
    "The algorithm: For each of `N` steps, randomly select an index $i$ into the vector `xs` storing your image data. Calculate the gradient of the cost function, $L_i$, for this image and update each of the parameters, $p_j$, of $L_i$ according to\n",
    "\n",
    "$$p_j = p_j - 0.01 * ∇L_j$$\n",
    "\n",
    "(Here, $j$ signifies the $j^{th}$ parameter of $L$ and similarly the $j^{th}$ component of $∇L$.)\n",
    "\n",
    "`stochastic_gradient_descent` should return the updated values for vector $\\mathbf{w}$ and scalar $b$.\n",
    "\n",
    "Optional: Keep track of the value of $L_\\mathrm{total}$ over time if you want to visualize the learning process."
   ]
  },
  {
   "cell_type": "markdown",
   "metadata": {},
   "source": [
    "#### Exercise 10\n",
    "\n",
    "Use the values of `w` and `b` from the last exercise to see how `f` is classifying a couple of the images in out dataset.\n",
    "\n",
    "In particular, calculate `f` using the 1st and the 900th image in `xs`. For which image is the output of `f` closer to the value of its label?\n",
    "\n",
    "A) The output of `f` for the 1st image in `xs` is closer to its label\n",
    "\n",
    "B) The output of `f` for the 900th image in `xs` is closer to its label."
   ]
  },
  {
   "cell_type": "markdown",
   "metadata": {},
   "source": [
    "#### Exercise 11\n",
    "\n",
    "Use the `maximum` function to determine the maximum squared distance of the prediction from the true value. (For each image, this formula is $y_i - f_{w, b}(x_i)$.)"
   ]
  },
  {
   "cell_type": "markdown",
   "metadata": {},
   "source": [
    "#### Exercise 12\n",
    "\n",
    "Use `w` and `b` from stochastic gradient descent to draw the function that the network has learned, as before, as the hyperplane $w_1 x + w_2 y + b = 0$. Overlay this with the data.\n",
    "\n",
    "\n",
    "Does this hyperplane correctly separate the data? (I.e., is the data for all apples on one side of the line, and is the data for all bananas on the other side of the line?)\n",
    "\n",
    "A) Yes\n",
    "B) No"
   ]
  }
 ],
 "metadata": {
  "kernelspec": {
   "display_name": "Julia 0.6.2",
   "language": "julia",
   "name": "julia-0.6"
  },
  "language_info": {
   "file_extension": ".jl",
   "mimetype": "application/julia",
   "name": "julia",
   "version": "0.6.3"
  }
 },
 "nbformat": 4,
 "nbformat_minor": 2
}
